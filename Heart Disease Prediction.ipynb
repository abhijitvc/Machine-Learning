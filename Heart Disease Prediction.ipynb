{
 "cells": [
  {
   "cell_type": "markdown",
   "metadata": {},
   "source": [
    "<h1><center><font size=\"5\"><font color='BLUE'>ML PIPELINE PROJECT</center></h1>\n",
    "\n",
    "## <font size=\"5\"><font color='RED'>Data Source and compilation\n",
    "\n",
    "* This dataset is called the Heart Disease dataset published in the UCI Machine Learning Repository.\n",
    "\n",
    "* Can be accessed using below link https://archive.ics.uci.edu/ml/datasets/Heart+Disease.\n",
    "\n",
    "* It originally contained 75 attributes, but only 14 of those attributes have been used by published experiments which we are using too and are given below\n",
    "\n",
    "#### 1) Age - age in years\n",
    "#### 2) Sex –\n",
    "1 = male;\n",
    "0 = female\n",
    "#### 3) ChestPain –\n",
    "1: typical angina\n",
    "2: atypical angina\n",
    "3: non-anginal pain\n",
    "4: asymptomatic\n",
    "#### 4) Rest_bp – resting BP (mm Hg on admission to the hospital)\n",
    "#### 5) Cholesterol - serum cholesterol in mg/dl\n",
    "#### 6) Fast_bld_sugar - (fasting blood sugar > 120 mg/dl)\n",
    "(1 = true; 0 = false)\n",
    "#### 7) Rest_Ecg –\n",
    "0: normal\n",
    "1: abnormal\n",
    "2: probable or definite left ventricular enlargement\n",
    "#### 8) Max_Rt - maximum heart rate achieved\n",
    "#### 9) Ex_Angina - exercise induced angina\n",
    "1 = yes;\n",
    "0 = no\n",
    "#### 10) St_Depr - ST depression induced by exercise relative to rest\n",
    "#### 11) Slope - the slope of the peak exercise ST segment\n",
    "1: upsloping\n",
    "2: flat\n",
    "3: down sloping\n",
    "#### 12) Colored_Vessels - number of major vessels (0-3) colored by flourosopy\n",
    "#### 13) Thalassemia –\n",
    "#### 14) Target -"
   ]
  },
  {
   "cell_type": "markdown",
   "metadata": {},
   "source": [
    "**Import the libraries**"
   ]
  },
  {
   "cell_type": "code",
   "execution_count": 128,
   "metadata": {},
   "outputs": [],
   "source": [
    "import pandas as pd \n",
    "import matplotlib.pyplot as plt \n",
    "import seaborn as sns \n",
    "import numpy as np\n",
    "import pandas.util.testing as tm\n",
    "from sklearn.preprocessing import StandardScaler\n",
    "from sklearn.model_selection import KFold \n",
    "from sklearn.model_selection import cross_val_score\n",
    "from sklearn.ensemble import BaggingClassifier\n",
    "from sklearn.ensemble import RandomForestClassifier \n",
    "from sklearn.ensemble import ExtraTreesClassifier \n",
    "import warnings\n",
    "warnings.filterwarnings(\"ignore\", category=FutureWarning)"
   ]
  },
  {
   "cell_type": "markdown",
   "metadata": {},
   "source": [
    "**Read the data**"
   ]
  },
  {
   "cell_type": "code",
   "execution_count": 129,
   "metadata": {},
   "outputs": [],
   "source": [
    "data0 = pd.read_csv('Comb_heart_data.csv')"
   ]
  },
  {
   "cell_type": "code",
   "execution_count": 130,
   "metadata": {},
   "outputs": [
    {
     "data": {
      "text/plain": [
       "(929, 14)"
      ]
     },
     "execution_count": 130,
     "metadata": {},
     "output_type": "execute_result"
    }
   ],
   "source": [
    "data0.shape"
   ]
  },
  {
   "cell_type": "markdown",
   "metadata": {},
   "source": [
    "*The data has 929 rows and 14 columns in it.*"
   ]
  },
  {
   "cell_type": "code",
   "execution_count": 131,
   "metadata": {},
   "outputs": [
    {
     "data": {
      "text/html": [
       "<div>\n",
       "<style scoped>\n",
       "    .dataframe tbody tr th:only-of-type {\n",
       "        vertical-align: middle;\n",
       "    }\n",
       "\n",
       "    .dataframe tbody tr th {\n",
       "        vertical-align: top;\n",
       "    }\n",
       "\n",
       "    .dataframe thead th {\n",
       "        text-align: right;\n",
       "    }\n",
       "</style>\n",
       "<table border=\"1\" class=\"dataframe\">\n",
       "  <thead>\n",
       "    <tr style=\"text-align: right;\">\n",
       "      <th></th>\n",
       "      <th>Age</th>\n",
       "      <th>Sex</th>\n",
       "      <th>ChestPain</th>\n",
       "      <th>Rest_bp</th>\n",
       "      <th>Cholestrol</th>\n",
       "      <th>Fast_bld_sugar</th>\n",
       "      <th>Rest_Ecg</th>\n",
       "      <th>Max_Rt</th>\n",
       "      <th>Ex_Angina</th>\n",
       "      <th>St_Depr</th>\n",
       "      <th>Slope</th>\n",
       "      <th>Colored_Vessels</th>\n",
       "      <th>Thalassemia</th>\n",
       "      <th>Target</th>\n",
       "    </tr>\n",
       "  </thead>\n",
       "  <tbody>\n",
       "    <tr>\n",
       "      <td>0</td>\n",
       "      <td>63</td>\n",
       "      <td>1</td>\n",
       "      <td>1</td>\n",
       "      <td>145</td>\n",
       "      <td>233</td>\n",
       "      <td>1</td>\n",
       "      <td>2</td>\n",
       "      <td>150</td>\n",
       "      <td>0</td>\n",
       "      <td>2.3</td>\n",
       "      <td>3</td>\n",
       "      <td>0</td>\n",
       "      <td>6</td>\n",
       "      <td>0</td>\n",
       "    </tr>\n",
       "    <tr>\n",
       "      <td>1</td>\n",
       "      <td>67</td>\n",
       "      <td>1</td>\n",
       "      <td>4</td>\n",
       "      <td>160</td>\n",
       "      <td>286</td>\n",
       "      <td>0</td>\n",
       "      <td>2</td>\n",
       "      <td>108</td>\n",
       "      <td>1</td>\n",
       "      <td>1.5</td>\n",
       "      <td>2</td>\n",
       "      <td>3</td>\n",
       "      <td>3</td>\n",
       "      <td>2</td>\n",
       "    </tr>\n",
       "    <tr>\n",
       "      <td>2</td>\n",
       "      <td>67</td>\n",
       "      <td>1</td>\n",
       "      <td>4</td>\n",
       "      <td>120</td>\n",
       "      <td>229</td>\n",
       "      <td>0</td>\n",
       "      <td>2</td>\n",
       "      <td>129</td>\n",
       "      <td>1</td>\n",
       "      <td>2.6</td>\n",
       "      <td>2</td>\n",
       "      <td>2</td>\n",
       "      <td>7</td>\n",
       "      <td>1</td>\n",
       "    </tr>\n",
       "    <tr>\n",
       "      <td>3</td>\n",
       "      <td>37</td>\n",
       "      <td>1</td>\n",
       "      <td>3</td>\n",
       "      <td>130</td>\n",
       "      <td>250</td>\n",
       "      <td>0</td>\n",
       "      <td>0</td>\n",
       "      <td>187</td>\n",
       "      <td>0</td>\n",
       "      <td>3.5</td>\n",
       "      <td>3</td>\n",
       "      <td>0</td>\n",
       "      <td>3</td>\n",
       "      <td>0</td>\n",
       "    </tr>\n",
       "    <tr>\n",
       "      <td>4</td>\n",
       "      <td>41</td>\n",
       "      <td>0</td>\n",
       "      <td>2</td>\n",
       "      <td>130</td>\n",
       "      <td>204</td>\n",
       "      <td>0</td>\n",
       "      <td>2</td>\n",
       "      <td>172</td>\n",
       "      <td>0</td>\n",
       "      <td>1.4</td>\n",
       "      <td>1</td>\n",
       "      <td>0</td>\n",
       "      <td>3</td>\n",
       "      <td>0</td>\n",
       "    </tr>\n",
       "    <tr>\n",
       "      <td>...</td>\n",
       "      <td>...</td>\n",
       "      <td>...</td>\n",
       "      <td>...</td>\n",
       "      <td>...</td>\n",
       "      <td>...</td>\n",
       "      <td>...</td>\n",
       "      <td>...</td>\n",
       "      <td>...</td>\n",
       "      <td>...</td>\n",
       "      <td>...</td>\n",
       "      <td>...</td>\n",
       "      <td>...</td>\n",
       "      <td>...</td>\n",
       "      <td>...</td>\n",
       "    </tr>\n",
       "    <tr>\n",
       "      <td>924</td>\n",
       "      <td>54</td>\n",
       "      <td>0</td>\n",
       "      <td>4</td>\n",
       "      <td>127</td>\n",
       "      <td>333</td>\n",
       "      <td>1</td>\n",
       "      <td>1</td>\n",
       "      <td>154</td>\n",
       "      <td>0</td>\n",
       "      <td>0</td>\n",
       "      <td>?</td>\n",
       "      <td>?</td>\n",
       "      <td>?</td>\n",
       "      <td>1</td>\n",
       "    </tr>\n",
       "    <tr>\n",
       "      <td>925</td>\n",
       "      <td>62</td>\n",
       "      <td>1</td>\n",
       "      <td>1</td>\n",
       "      <td>?</td>\n",
       "      <td>139</td>\n",
       "      <td>0</td>\n",
       "      <td>1</td>\n",
       "      <td>?</td>\n",
       "      <td>?</td>\n",
       "      <td>?</td>\n",
       "      <td>?</td>\n",
       "      <td>?</td>\n",
       "      <td>?</td>\n",
       "      <td>0</td>\n",
       "    </tr>\n",
       "    <tr>\n",
       "      <td>926</td>\n",
       "      <td>55</td>\n",
       "      <td>1</td>\n",
       "      <td>4</td>\n",
       "      <td>122</td>\n",
       "      <td>223</td>\n",
       "      <td>1</td>\n",
       "      <td>1</td>\n",
       "      <td>100</td>\n",
       "      <td>0</td>\n",
       "      <td>0</td>\n",
       "      <td>?</td>\n",
       "      <td>?</td>\n",
       "      <td>6</td>\n",
       "      <td>2</td>\n",
       "    </tr>\n",
       "    <tr>\n",
       "      <td>927</td>\n",
       "      <td>58</td>\n",
       "      <td>1</td>\n",
       "      <td>4</td>\n",
       "      <td>?</td>\n",
       "      <td>385</td>\n",
       "      <td>1</td>\n",
       "      <td>2</td>\n",
       "      <td>?</td>\n",
       "      <td>?</td>\n",
       "      <td>?</td>\n",
       "      <td>?</td>\n",
       "      <td>?</td>\n",
       "      <td>?</td>\n",
       "      <td>0</td>\n",
       "    </tr>\n",
       "    <tr>\n",
       "      <td>928</td>\n",
       "      <td>62</td>\n",
       "      <td>1</td>\n",
       "      <td>2</td>\n",
       "      <td>120</td>\n",
       "      <td>254</td>\n",
       "      <td>0</td>\n",
       "      <td>2</td>\n",
       "      <td>93</td>\n",
       "      <td>1</td>\n",
       "      <td>0</td>\n",
       "      <td>?</td>\n",
       "      <td>?</td>\n",
       "      <td>?</td>\n",
       "      <td>1</td>\n",
       "    </tr>\n",
       "  </tbody>\n",
       "</table>\n",
       "<p>929 rows × 14 columns</p>\n",
       "</div>"
      ],
      "text/plain": [
       "     Age  Sex  ChestPain Rest_bp Cholestrol Fast_bld_sugar Rest_Ecg Max_Rt Ex_Angina St_Depr  \\\n",
       "0     63    1          1     145        233              1        2    150         0     2.3   \n",
       "1     67    1          4     160        286              0        2    108         1     1.5   \n",
       "2     67    1          4     120        229              0        2    129         1     2.6   \n",
       "3     37    1          3     130        250              0        0    187         0     3.5   \n",
       "4     41    0          2     130        204              0        2    172         0     1.4   \n",
       "..   ...  ...        ...     ...        ...            ...      ...    ...       ...     ...   \n",
       "924   54    0          4     127        333              1        1    154         0       0   \n",
       "925   62    1          1       ?        139              0        1      ?         ?       ?   \n",
       "926   55    1          4     122        223              1        1    100         0       0   \n",
       "927   58    1          4       ?        385              1        2      ?         ?       ?   \n",
       "928   62    1          2     120        254              0        2     93         1       0   \n",
       "\n",
       "    Slope Colored_Vessels Thalassemia  Target  \n",
       "0       3               0           6       0  \n",
       "1       2               3           3       2  \n",
       "2       2               2           7       1  \n",
       "3       3               0           3       0  \n",
       "4       1               0           3       0  \n",
       "..    ...             ...         ...     ...  \n",
       "924     ?               ?           ?       1  \n",
       "925     ?               ?           ?       0  \n",
       "926     ?               ?           6       2  \n",
       "927     ?               ?           ?       0  \n",
       "928     ?               ?           ?       1  \n",
       "\n",
       "[929 rows x 14 columns]"
      ]
     },
     "execution_count": 131,
     "metadata": {},
     "output_type": "execute_result"
    }
   ],
   "source": [
    "data0"
   ]
  },
  {
   "cell_type": "code",
   "execution_count": 8,
   "metadata": {},
   "outputs": [],
   "source": [
    "data0.columns = ['Age', 'Sex', 'ChestPain', 'Rest_bp',\n",
    "                 'Cholestrol', 'Fast_bld_sugar', 'Rest_Ecg', 'Max_Rt', \n",
    "                 'Ex_Angina', 'St_Depr', 'Slope', 'Colored_Vessels',\n",
    "                  'Thalassemia','Target']"
   ]
  },
  {
   "cell_type": "markdown",
   "metadata": {},
   "source": [
    "## <font size=\"5\"><font color='RED'> 2.0 Data Summary & Analysis\n",
    "### 2.1 Descriptive statistics\n",
    "    Dimensions of the dataset\n",
    "    Peek at the data itself\n",
    "    Statistical summary of attributes (includes the count, mean, min, max & percentiles)\n",
    "    Breakdown of the data by the class variable.(# instances of each class as a count)"
   ]
  },
  {
   "cell_type": "markdown",
   "metadata": {},
   "source": [
    "**Descriptive Statistics**"
   ]
  },
  {
   "cell_type": "code",
   "execution_count": 132,
   "metadata": {},
   "outputs": [
    {
     "data": {
      "text/plain": [
       "Age                 int64\n",
       "Sex                 int64\n",
       "ChestPain           int64\n",
       "Rest_bp            object\n",
       "Cholestrol         object\n",
       "Fast_bld_sugar     object\n",
       "Rest_Ecg           object\n",
       "Max_Rt             object\n",
       "Ex_Angina          object\n",
       "St_Depr            object\n",
       "Slope              object\n",
       "Colored_Vessels    object\n",
       "Thalassemia        object\n",
       "Target              int64\n",
       "dtype: object"
      ]
     },
     "execution_count": 132,
     "metadata": {},
     "output_type": "execute_result"
    }
   ],
   "source": [
    "data0.dtypes"
   ]
  },
  {
   "cell_type": "code",
   "execution_count": 133,
   "metadata": {},
   "outputs": [
    {
     "data": {
      "text/plain": [
       "(929, 14)"
      ]
     },
     "execution_count": 133,
     "metadata": {},
     "output_type": "execute_result"
    }
   ],
   "source": [
    "data0.shape"
   ]
  },
  {
   "cell_type": "code",
   "execution_count": 134,
   "metadata": {},
   "outputs": [
    {
     "data": {
      "text/html": [
       "<div>\n",
       "<style scoped>\n",
       "    .dataframe tbody tr th:only-of-type {\n",
       "        vertical-align: middle;\n",
       "    }\n",
       "\n",
       "    .dataframe tbody tr th {\n",
       "        vertical-align: top;\n",
       "    }\n",
       "\n",
       "    .dataframe thead th {\n",
       "        text-align: right;\n",
       "    }\n",
       "</style>\n",
       "<table border=\"1\" class=\"dataframe\">\n",
       "  <thead>\n",
       "    <tr style=\"text-align: right;\">\n",
       "      <th></th>\n",
       "      <th>Age</th>\n",
       "      <th>Sex</th>\n",
       "      <th>ChestPain</th>\n",
       "      <th>Rest_bp</th>\n",
       "      <th>Cholestrol</th>\n",
       "      <th>Fast_bld_sugar</th>\n",
       "      <th>Rest_Ecg</th>\n",
       "      <th>Max_Rt</th>\n",
       "      <th>Ex_Angina</th>\n",
       "      <th>St_Depr</th>\n",
       "      <th>Slope</th>\n",
       "      <th>Colored_Vessels</th>\n",
       "      <th>Thalassemia</th>\n",
       "      <th>Target</th>\n",
       "    </tr>\n",
       "  </thead>\n",
       "  <tbody>\n",
       "    <tr>\n",
       "      <td>count</td>\n",
       "      <td>929.00</td>\n",
       "      <td>929.00</td>\n",
       "      <td>929.00</td>\n",
       "      <td>929</td>\n",
       "      <td>929</td>\n",
       "      <td>929</td>\n",
       "      <td>929</td>\n",
       "      <td>929</td>\n",
       "      <td>929</td>\n",
       "      <td>929</td>\n",
       "      <td>929</td>\n",
       "      <td>929</td>\n",
       "      <td>929</td>\n",
       "      <td>929.00</td>\n",
       "    </tr>\n",
       "    <tr>\n",
       "      <td>unique</td>\n",
       "      <td>NaN</td>\n",
       "      <td>NaN</td>\n",
       "      <td>NaN</td>\n",
       "      <td>59</td>\n",
       "      <td>181</td>\n",
       "      <td>3</td>\n",
       "      <td>4</td>\n",
       "      <td>118</td>\n",
       "      <td>3</td>\n",
       "      <td>53</td>\n",
       "      <td>4</td>\n",
       "      <td>5</td>\n",
       "      <td>4</td>\n",
       "      <td>NaN</td>\n",
       "    </tr>\n",
       "    <tr>\n",
       "      <td>top</td>\n",
       "      <td>NaN</td>\n",
       "      <td>NaN</td>\n",
       "      <td>NaN</td>\n",
       "      <td>120</td>\n",
       "      <td>0</td>\n",
       "      <td>0</td>\n",
       "      <td>0</td>\n",
       "      <td>?</td>\n",
       "      <td>0</td>\n",
       "      <td>0</td>\n",
       "      <td>2</td>\n",
       "      <td>0</td>\n",
       "      <td>3</td>\n",
       "      <td>NaN</td>\n",
       "    </tr>\n",
       "    <tr>\n",
       "      <td>freq</td>\n",
       "      <td>NaN</td>\n",
       "      <td>NaN</td>\n",
       "      <td>NaN</td>\n",
       "      <td>103</td>\n",
       "      <td>172</td>\n",
       "      <td>684</td>\n",
       "      <td>467</td>\n",
       "      <td>54</td>\n",
       "      <td>528</td>\n",
       "      <td>280</td>\n",
       "      <td>394</td>\n",
       "      <td>354</td>\n",
       "      <td>355</td>\n",
       "      <td>NaN</td>\n",
       "    </tr>\n",
       "    <tr>\n",
       "      <td>mean</td>\n",
       "      <td>55.61</td>\n",
       "      <td>0.77</td>\n",
       "      <td>3.30</td>\n",
       "      <td>NaN</td>\n",
       "      <td>NaN</td>\n",
       "      <td>NaN</td>\n",
       "      <td>NaN</td>\n",
       "      <td>NaN</td>\n",
       "      <td>NaN</td>\n",
       "      <td>NaN</td>\n",
       "      <td>NaN</td>\n",
       "      <td>NaN</td>\n",
       "      <td>NaN</td>\n",
       "      <td>1.18</td>\n",
       "    </tr>\n",
       "    <tr>\n",
       "      <td>std</td>\n",
       "      <td>8.99</td>\n",
       "      <td>0.42</td>\n",
       "      <td>0.92</td>\n",
       "      <td>NaN</td>\n",
       "      <td>NaN</td>\n",
       "      <td>NaN</td>\n",
       "      <td>NaN</td>\n",
       "      <td>NaN</td>\n",
       "      <td>NaN</td>\n",
       "      <td>NaN</td>\n",
       "      <td>NaN</td>\n",
       "      <td>NaN</td>\n",
       "      <td>NaN</td>\n",
       "      <td>1.25</td>\n",
       "    </tr>\n",
       "    <tr>\n",
       "      <td>min</td>\n",
       "      <td>29.00</td>\n",
       "      <td>0.00</td>\n",
       "      <td>1.00</td>\n",
       "      <td>NaN</td>\n",
       "      <td>NaN</td>\n",
       "      <td>NaN</td>\n",
       "      <td>NaN</td>\n",
       "      <td>NaN</td>\n",
       "      <td>NaN</td>\n",
       "      <td>NaN</td>\n",
       "      <td>NaN</td>\n",
       "      <td>NaN</td>\n",
       "      <td>NaN</td>\n",
       "      <td>0.00</td>\n",
       "    </tr>\n",
       "    <tr>\n",
       "      <td>25%</td>\n",
       "      <td>50.00</td>\n",
       "      <td>1.00</td>\n",
       "      <td>3.00</td>\n",
       "      <td>NaN</td>\n",
       "      <td>NaN</td>\n",
       "      <td>NaN</td>\n",
       "      <td>NaN</td>\n",
       "      <td>NaN</td>\n",
       "      <td>NaN</td>\n",
       "      <td>NaN</td>\n",
       "      <td>NaN</td>\n",
       "      <td>NaN</td>\n",
       "      <td>NaN</td>\n",
       "      <td>0.00</td>\n",
       "    </tr>\n",
       "    <tr>\n",
       "      <td>50%</td>\n",
       "      <td>57.00</td>\n",
       "      <td>1.00</td>\n",
       "      <td>4.00</td>\n",
       "      <td>NaN</td>\n",
       "      <td>NaN</td>\n",
       "      <td>NaN</td>\n",
       "      <td>NaN</td>\n",
       "      <td>NaN</td>\n",
       "      <td>NaN</td>\n",
       "      <td>NaN</td>\n",
       "      <td>NaN</td>\n",
       "      <td>NaN</td>\n",
       "      <td>NaN</td>\n",
       "      <td>1.00</td>\n",
       "    </tr>\n",
       "    <tr>\n",
       "      <td>75%</td>\n",
       "      <td>62.00</td>\n",
       "      <td>1.00</td>\n",
       "      <td>4.00</td>\n",
       "      <td>NaN</td>\n",
       "      <td>NaN</td>\n",
       "      <td>NaN</td>\n",
       "      <td>NaN</td>\n",
       "      <td>NaN</td>\n",
       "      <td>NaN</td>\n",
       "      <td>NaN</td>\n",
       "      <td>NaN</td>\n",
       "      <td>NaN</td>\n",
       "      <td>NaN</td>\n",
       "      <td>2.00</td>\n",
       "    </tr>\n",
       "    <tr>\n",
       "      <td>max</td>\n",
       "      <td>77.00</td>\n",
       "      <td>1.00</td>\n",
       "      <td>4.00</td>\n",
       "      <td>NaN</td>\n",
       "      <td>NaN</td>\n",
       "      <td>NaN</td>\n",
       "      <td>NaN</td>\n",
       "      <td>NaN</td>\n",
       "      <td>NaN</td>\n",
       "      <td>NaN</td>\n",
       "      <td>NaN</td>\n",
       "      <td>NaN</td>\n",
       "      <td>NaN</td>\n",
       "      <td>4.00</td>\n",
       "    </tr>\n",
       "  </tbody>\n",
       "</table>\n",
       "</div>"
      ],
      "text/plain": [
       "           Age     Sex  ChestPain Rest_bp Cholestrol Fast_bld_sugar Rest_Ecg Max_Rt Ex_Angina  \\\n",
       "count   929.00  929.00     929.00     929        929            929      929    929       929   \n",
       "unique     NaN     NaN        NaN      59        181              3        4    118         3   \n",
       "top        NaN     NaN        NaN     120          0              0        0      ?         0   \n",
       "freq       NaN     NaN        NaN     103        172            684      467     54       528   \n",
       "mean     55.61    0.77       3.30     NaN        NaN            NaN      NaN    NaN       NaN   \n",
       "std       8.99    0.42       0.92     NaN        NaN            NaN      NaN    NaN       NaN   \n",
       "min      29.00    0.00       1.00     NaN        NaN            NaN      NaN    NaN       NaN   \n",
       "25%      50.00    1.00       3.00     NaN        NaN            NaN      NaN    NaN       NaN   \n",
       "50%      57.00    1.00       4.00     NaN        NaN            NaN      NaN    NaN       NaN   \n",
       "75%      62.00    1.00       4.00     NaN        NaN            NaN      NaN    NaN       NaN   \n",
       "max      77.00    1.00       4.00     NaN        NaN            NaN      NaN    NaN       NaN   \n",
       "\n",
       "       St_Depr Slope Colored_Vessels Thalassemia  Target  \n",
       "count      929   929             929         929  929.00  \n",
       "unique      53     4               5           4     NaN  \n",
       "top          0     2               0           3     NaN  \n",
       "freq       280   394             354         355     NaN  \n",
       "mean       NaN   NaN             NaN         NaN    1.18  \n",
       "std        NaN   NaN             NaN         NaN    1.25  \n",
       "min        NaN   NaN             NaN         NaN    0.00  \n",
       "25%        NaN   NaN             NaN         NaN    0.00  \n",
       "50%        NaN   NaN             NaN         NaN    1.00  \n",
       "75%        NaN   NaN             NaN         NaN    2.00  \n",
       "max        NaN   NaN             NaN         NaN    4.00  "
      ]
     },
     "execution_count": 134,
     "metadata": {},
     "output_type": "execute_result"
    }
   ],
   "source": [
    "data0.describe(include='all')"
   ]
  },
  {
   "cell_type": "code",
   "execution_count": 135,
   "metadata": {},
   "outputs": [
    {
     "name": "stdout",
     "output_type": "stream",
     "text": [
      "<class 'pandas.core.frame.DataFrame'>\n",
      "RangeIndex: 929 entries, 0 to 928\n",
      "Data columns (total 14 columns):\n",
      "Age                929 non-null int64\n",
      "Sex                929 non-null int64\n",
      "ChestPain          929 non-null int64\n",
      "Rest_bp            929 non-null object\n",
      "Cholestrol         929 non-null object\n",
      "Fast_bld_sugar     929 non-null object\n",
      "Rest_Ecg           929 non-null object\n",
      "Max_Rt             929 non-null object\n",
      "Ex_Angina          929 non-null object\n",
      "St_Depr            929 non-null object\n",
      "Slope              929 non-null object\n",
      "Colored_Vessels    929 non-null object\n",
      "Thalassemia        929 non-null object\n",
      "Target             929 non-null int64\n",
      "dtypes: int64(4), object(10)\n",
      "memory usage: 101.7+ KB\n"
     ]
    }
   ],
   "source": [
    "data0.info()"
   ]
  },
  {
   "cell_type": "code",
   "execution_count": 136,
   "metadata": {
    "scrolled": true
   },
   "outputs": [
    {
     "data": {
      "text/plain": [
       "Age                0\n",
       "Sex                0\n",
       "ChestPain          0\n",
       "Rest_bp            0\n",
       "Cholestrol         0\n",
       "Fast_bld_sugar     0\n",
       "Rest_Ecg           0\n",
       "Max_Rt             0\n",
       "Ex_Angina          0\n",
       "St_Depr            0\n",
       "Slope              0\n",
       "Colored_Vessels    0\n",
       "Thalassemia        0\n",
       "Target             0\n",
       "dtype: int64"
      ]
     },
     "execution_count": 136,
     "metadata": {},
     "output_type": "execute_result"
    }
   ],
   "source": [
    "data0.isnull().sum()"
   ]
  },
  {
   "cell_type": "markdown",
   "metadata": {},
   "source": [
    "*The above code tells us that there are no null values present in the dataset*"
   ]
  },
  {
   "cell_type": "markdown",
   "metadata": {},
   "source": [
    "# **Univariate Analysis**"
   ]
  },
  {
   "cell_type": "markdown",
   "metadata": {},
   "source": [
    "**A visualization of the Target variable.**"
   ]
  },
  {
   "cell_type": "code",
   "execution_count": 101,
   "metadata": {},
   "outputs": [
    {
     "data": {
      "image/png": "[encoded data removed]",
      "text/plain": [
       "<Figure size 432x288 with 1 Axes>"
      ]
     },
     "metadata": {
      "needs_background": "light"
     },
     "output_type": "display_data"
    }
   ],
   "source": [
    "sns.countplot(x = 'Target', data = data0)\n",
    "plt.show()"
   ]
  },
  {
   "cell_type": "code",
   "execution_count": 102,
   "metadata": {},
   "outputs": [
    {
     "name": "stdout",
     "output_type": "stream",
     "text": [
      "Target\n",
      "0    387\n",
      "1    214\n",
      "2    145\n",
      "3    142\n",
      "4     41\n",
      "dtype: int64\n"
     ]
    }
   ],
   "source": [
    "print(data0.groupby('Target').size())"
   ]
  },
  {
   "cell_type": "markdown",
   "metadata": {},
   "source": [
    "*The above visualization and the code shows us that we have a fairly balanced Target variable which is divided as 0 and 1.**"
   ]
  },
  {
   "cell_type": "code",
   "execution_count": 103,
   "metadata": {},
   "outputs": [
    {
     "data": {
      "image/png": "[encoded data removed]",
      "text/plain": [
       "<Figure size 432x288 with 1 Axes>"
      ]
     },
     "metadata": {
      "needs_background": "light"
     },
     "output_type": "display_data"
    },
    {
     "name": "stdout",
     "output_type": "stream",
     "text": [
      "Skewness of Age :  -0.3138344083994114\n"
     ]
    }
   ],
   "source": [
    "sns.distplot(data0.Age)\n",
    "plt.show()\n",
    "print('Skewness of Age : ',data0.Age.skew())"
   ]
  },
  {
   "cell_type": "markdown",
   "metadata": {},
   "source": [
    "*With a skewness of -0.22 and with the above plot we can say that the feature 'Age' is fairly symmetrically distributed.*"
   ]
  },
  {
   "cell_type": "code",
   "execution_count": 104,
   "metadata": {},
   "outputs": [
    {
     "data": {
      "image/png": "[encoded data removed]",
      "text/plain": [
       "<Figure size 432x288 with 1 Axes>"
      ]
     },
     "metadata": {
      "needs_background": "light"
     },
     "output_type": "display_data"
    },
    {
     "name": "stdout",
     "output_type": "stream",
     "text": [
      "Skewness of Sex :  -1.312036148779098\n"
     ]
    }
   ],
   "source": [
    "sns.countplot(data0.Sex)\n",
    "plt.show()\n",
    "print('Skewness of Sex : ',data0.Sex.skew())"
   ]
  },
  {
   "cell_type": "code",
   "execution_count": 55,
   "metadata": {},
   "outputs": [
    {
     "data": {
      "text/plain": [
       "array([63, 67, 37, 41, 56, 62, 57, 53, 44, 52, 48, 54, 49, 64, 58, 60, 50,\n",
       "       66, 43, 40, 69, 59, 42, 55, 61, 65, 71, 51, 46, 45, 39, 68, 47, 34,\n",
       "       35, 29, 70, 77, 38, 74, 76], dtype=int64)"
      ]
     },
     "execution_count": 55,
     "metadata": {},
     "output_type": "execute_result"
    }
   ],
   "source": [
    "data0['Age'].unique()"
   ]
  },
  {
   "cell_type": "code",
   "execution_count": 56,
   "metadata": {},
   "outputs": [
    {
     "data": {
      "text/plain": [
       "array([1, 0], dtype=int64)"
      ]
     },
     "execution_count": 56,
     "metadata": {},
     "output_type": "execute_result"
    }
   ],
   "source": [
    "data0['Sex'].unique()"
   ]
  },
  {
   "cell_type": "code",
   "execution_count": 57,
   "metadata": {},
   "outputs": [
    {
     "data": {
      "text/plain": [
       "array([1, 4, 3, 2], dtype=int64)"
      ]
     },
     "execution_count": 57,
     "metadata": {},
     "output_type": "execute_result"
    }
   ],
   "source": [
    "data0['ChestPain'].unique()"
   ]
  },
  {
   "cell_type": "code",
   "execution_count": 58,
   "metadata": {},
   "outputs": [
    {
     "data": {
      "text/plain": [
       "array([145, 160, 120, 130, 140, 172, 150, 110, 132, 117, 135, 112, 105,\n",
       "       124, 125, 142, 128, 170, 155, 104, 180, 138, 108, 134, 122, 115,\n",
       "       118, 100, 200,  94, 165, 102, 152, 101, 126, 174, 148, 178, 158,\n",
       "       192, 129, 144, 123, 136, 146, 106, 156, 154, 114, 164], dtype=int64)"
      ]
     },
     "execution_count": 58,
     "metadata": {},
     "output_type": "execute_result"
    }
   ],
   "source": [
    "data0['Rest_bp'].unique()"
   ]
  },
  {
   "cell_type": "code",
   "execution_count": 60,
   "metadata": {
    "scrolled": true
   },
   "outputs": [
    {
     "data": {
      "text/plain": [
       "array([233, 286, 229, 250, 204, 236, 268, 354, 254, 203, 192, 294, 256,\n",
       "       263, 199, 168, 239, 275, 266, 211, 283, 284, 224, 206, 219, 340,\n",
       "       226, 247, 167, 230, 335, 234, 177, 276, 353, 243, 225, 302, 212,\n",
       "       330, 175, 417, 197, 198, 290, 253, 172, 273, 213, 305, 216, 304,\n",
       "       188, 282, 185, 232, 326, 231, 269, 267, 248, 360, 258, 308, 245,\n",
       "       270, 208, 264, 321, 274, 325, 235, 257, 164, 141, 252, 255, 201,\n",
       "       222, 260, 182, 303, 265, 309, 307, 249, 186, 341, 183, 407, 217,\n",
       "       288, 220, 209, 227, 261, 174, 281, 221, 205, 240, 289, 318, 298,\n",
       "       564, 246, 322, 299, 300, 293, 277, 214, 207, 160, 394, 184, 315,\n",
       "       409, 244, 195, 196, 126, 313, 259, 200, 262, 215, 228, 193, 271,\n",
       "       210, 327, 149, 295, 306, 178, 237, 218, 223, 242, 319, 166, 180,\n",
       "       311, 278, 342, 169, 187, 157, 176, 241, 131, 100], dtype=int64)"
      ]
     },
     "execution_count": 60,
     "metadata": {},
     "output_type": "execute_result"
    }
   ],
   "source": [
    "data0['Cholestrol'].unique()"
   ]
  },
  {
   "cell_type": "code",
   "execution_count": 61,
   "metadata": {},
   "outputs": [
    {
     "data": {
      "text/plain": [
       "array([1, 0], dtype=int64)"
      ]
     },
     "execution_count": 61,
     "metadata": {},
     "output_type": "execute_result"
    }
   ],
   "source": [
    "data0['Fast_bld_sugar'].unique()"
   ]
  },
  {
   "cell_type": "code",
   "execution_count": 62,
   "metadata": {},
   "outputs": [
    {
     "data": {
      "text/plain": [
       "array([2, 0, 1], dtype=int64)"
      ]
     },
     "execution_count": 62,
     "metadata": {},
     "output_type": "execute_result"
    }
   ],
   "source": [
    "data0['Rest_Ecg'].unique()"
   ]
  },
  {
   "cell_type": "code",
   "execution_count": 63,
   "metadata": {},
   "outputs": [
    {
     "data": {
      "text/plain": [
       "array([150, 108, 129, 187, 172, 178, 160, 163, 147, 155, 148, 153, 142,\n",
       "       173, 162, 174, 168, 139, 171, 144, 132, 158, 114, 151, 161, 179,\n",
       "       120, 112, 137, 157, 169, 165, 123, 128, 152, 140, 188, 109, 125,\n",
       "       131, 170, 113,  99, 177, 141, 180, 111, 143, 182, 156, 149, 145,\n",
       "       146, 175, 186, 185, 159, 130, 190, 136,  97, 127, 154, 133, 126,\n",
       "       202, 103, 166, 164, 184, 124, 122,  96, 138,  88, 105, 194, 195,\n",
       "       106, 115, 167,  95, 192, 117, 121, 116,  71, 118, 181, 134,  90],\n",
       "      dtype=int64)"
      ]
     },
     "execution_count": 63,
     "metadata": {},
     "output_type": "execute_result"
    }
   ],
   "source": [
    "data0['Max_Rt'].unique()"
   ]
  },
  {
   "cell_type": "code",
   "execution_count": 64,
   "metadata": {},
   "outputs": [
    {
     "data": {
      "text/plain": [
       "array([0, 1], dtype=int64)"
      ]
     },
     "execution_count": 64,
     "metadata": {},
     "output_type": "execute_result"
    }
   ],
   "source": [
    "data0['Ex_Angina'].unique()"
   ]
  },
  {
   "cell_type": "code",
   "execution_count": 65,
   "metadata": {},
   "outputs": [
    {
     "data": {
      "text/plain": [
       "array([2.3, 1.5, 2.6, 3.5, 1.4, 0.8, 3.6, 0.6, 3.1, 0.4, 1.3, 0. , 0.5,\n",
       "       1.6, 1. , 1.2, 0.2, 1.8, 3.2, 2.4, 2. , 2.5, 2.2, 2.8, 3. , 3.4,\n",
       "       6.2, 4. , 5.6, 2.9, 0.1, 2.1, 1.9, 4.2, 0.9, 1.1, 3.8, 0.7, 0.3,\n",
       "       4.4])"
      ]
     },
     "execution_count": 65,
     "metadata": {},
     "output_type": "execute_result"
    }
   ],
   "source": [
    "data0['St_Depr'].unique()"
   ]
  },
  {
   "cell_type": "code",
   "execution_count": 66,
   "metadata": {},
   "outputs": [
    {
     "data": {
      "text/plain": [
       "array([3, 2, 1], dtype=int64)"
      ]
     },
     "execution_count": 66,
     "metadata": {},
     "output_type": "execute_result"
    }
   ],
   "source": [
    "data0['Slope'].unique()"
   ]
  },
  {
   "cell_type": "code",
   "execution_count": 67,
   "metadata": {},
   "outputs": [
    {
     "data": {
      "text/plain": [
       "array([0, 3, 2, 1], dtype=int64)"
      ]
     },
     "execution_count": 67,
     "metadata": {},
     "output_type": "execute_result"
    }
   ],
   "source": [
    "data0['Colored_Vessels'].unique()"
   ]
  },
  {
   "cell_type": "code",
   "execution_count": 68,
   "metadata": {},
   "outputs": [
    {
     "data": {
      "text/plain": [
       "array([6, 3, 7], dtype=int64)"
      ]
     },
     "execution_count": 68,
     "metadata": {},
     "output_type": "execute_result"
    }
   ],
   "source": [
    "data0['Thalassemia'].unique()"
   ]
  },
  {
   "cell_type": "code",
   "execution_count": 165,
   "metadata": {},
   "outputs": [
    {
     "data": {
      "image/png": "[encoded data removed]",
      "text/plain": [
       "<Figure size 864x864 with 16 Axes>"
      ]
     },
     "metadata": {
      "needs_background": "light"
     },
     "output_type": "display_data"
    }
   ],
   "source": [
    "data0.hist(sharex=False, sharey=False, xlabelsize=1, ylabelsize=1, figsize =(12,12))\n",
    "plt.show()"
   ]
  },
  {
   "cell_type": "markdown",
   "metadata": {},
   "source": [
    "### 3. Correlation Matrix with Heatmap\n",
    "Correlation Matrix with Heatmap — Correlation indicates how the features are related to each other or to the target variable.\n",
    "The correlation may be positive (increase in one value of the feature increases the value of the target variable) or negative (increase in one value of the feature decreases the value of the target variable)\n",
    "Heatmap makes it easy to classify the features are most relevant to the target variable, and we will plot the associated features of the heatmap using the seaborn library."
   ]
  },
  {
   "cell_type": "code",
   "execution_count": 195,
   "metadata": {},
   "outputs": [
    {
     "data": {
      "text/html": [
       "<div>\n",
       "<style scoped>\n",
       "    .dataframe tbody tr th:only-of-type {\n",
       "        vertical-align: middle;\n",
       "    }\n",
       "\n",
       "    .dataframe tbody tr th {\n",
       "        vertical-align: top;\n",
       "    }\n",
       "\n",
       "    .dataframe thead th {\n",
       "        text-align: right;\n",
       "    }\n",
       "</style>\n",
       "<table border=\"1\" class=\"dataframe\">\n",
       "  <thead>\n",
       "    <tr style=\"text-align: right;\">\n",
       "      <th></th>\n",
       "      <th>Age</th>\n",
       "      <th>Sex</th>\n",
       "      <th>ChestPain</th>\n",
       "      <th>Rest_bp</th>\n",
       "      <th>Cholestrol</th>\n",
       "      <th>Fast_bld_sugar</th>\n",
       "      <th>Rest_Ecg</th>\n",
       "      <th>Max_Rt</th>\n",
       "      <th>Ex_Angina</th>\n",
       "      <th>St_Depr</th>\n",
       "      <th>Slope</th>\n",
       "      <th>Colored_Vessels</th>\n",
       "      <th>Thalassemia</th>\n",
       "      <th>Target</th>\n",
       "    </tr>\n",
       "  </thead>\n",
       "  <tbody>\n",
       "    <tr>\n",
       "      <td>Age</td>\n",
       "      <td>1.00</td>\n",
       "      <td>-9.22e-02</td>\n",
       "      <td>1.11e-01</td>\n",
       "      <td>0.29</td>\n",
       "      <td>2.01e-01</td>\n",
       "      <td>1.32e-01</td>\n",
       "      <td>0.15</td>\n",
       "      <td>-3.94e-01</td>\n",
       "      <td>9.67e-02</td>\n",
       "      <td>1.97e-01</td>\n",
       "      <td>0.16</td>\n",
       "      <td>0.36</td>\n",
       "      <td>1.27e-01</td>\n",
       "      <td>2.27e-01</td>\n",
       "    </tr>\n",
       "    <tr>\n",
       "      <td>Sex</td>\n",
       "      <td>-0.09</td>\n",
       "      <td>1.00e+00</td>\n",
       "      <td>9.91e-03</td>\n",
       "      <td>-0.07</td>\n",
       "      <td>-2.00e-01</td>\n",
       "      <td>3.84e-02</td>\n",
       "      <td>0.03</td>\n",
       "      <td>-6.19e-02</td>\n",
       "      <td>1.45e-01</td>\n",
       "      <td>1.07e-01</td>\n",
       "      <td>0.03</td>\n",
       "      <td>0.09</td>\n",
       "      <td>3.84e-01</td>\n",
       "      <td>2.79e-01</td>\n",
       "    </tr>\n",
       "    <tr>\n",
       "      <td>ChestPain</td>\n",
       "      <td>0.11</td>\n",
       "      <td>9.91e-03</td>\n",
       "      <td>1.00e+00</td>\n",
       "      <td>-0.04</td>\n",
       "      <td>6.74e-02</td>\n",
       "      <td>-5.82e-02</td>\n",
       "      <td>0.06</td>\n",
       "      <td>-3.41e-01</td>\n",
       "      <td>3.79e-01</td>\n",
       "      <td>2.04e-01</td>\n",
       "      <td>0.15</td>\n",
       "      <td>0.23</td>\n",
       "      <td>2.70e-01</td>\n",
       "      <td>4.10e-01</td>\n",
       "    </tr>\n",
       "    <tr>\n",
       "      <td>Rest_bp</td>\n",
       "      <td>0.29</td>\n",
       "      <td>-6.71e-02</td>\n",
       "      <td>-3.79e-02</td>\n",
       "      <td>1.00</td>\n",
       "      <td>1.34e-01</td>\n",
       "      <td>1.81e-01</td>\n",
       "      <td>0.15</td>\n",
       "      <td>-4.76e-02</td>\n",
       "      <td>6.50e-02</td>\n",
       "      <td>1.91e-01</td>\n",
       "      <td>0.12</td>\n",
       "      <td>0.10</td>\n",
       "      <td>1.37e-01</td>\n",
       "      <td>1.52e-01</td>\n",
       "    </tr>\n",
       "    <tr>\n",
       "      <td>Cholestrol</td>\n",
       "      <td>0.20</td>\n",
       "      <td>-2.00e-01</td>\n",
       "      <td>6.74e-02</td>\n",
       "      <td>0.13</td>\n",
       "      <td>1.00e+00</td>\n",
       "      <td>1.46e-02</td>\n",
       "      <td>0.17</td>\n",
       "      <td>6.04e-03</td>\n",
       "      <td>5.20e-02</td>\n",
       "      <td>3.65e-02</td>\n",
       "      <td>-0.01</td>\n",
       "      <td>0.12</td>\n",
       "      <td>5.22e-03</td>\n",
       "      <td>7.46e-02</td>\n",
       "    </tr>\n",
       "    <tr>\n",
       "      <td>Fast_bld_sugar</td>\n",
       "      <td>0.13</td>\n",
       "      <td>3.84e-02</td>\n",
       "      <td>-5.82e-02</td>\n",
       "      <td>0.18</td>\n",
       "      <td>1.46e-02</td>\n",
       "      <td>1.00e+00</td>\n",
       "      <td>0.07</td>\n",
       "      <td>-6.94e-03</td>\n",
       "      <td>-1.88e-03</td>\n",
       "      <td>8.04e-03</td>\n",
       "      <td>0.05</td>\n",
       "      <td>0.15</td>\n",
       "      <td>6.13e-02</td>\n",
       "      <td>2.42e-03</td>\n",
       "    </tr>\n",
       "    <tr>\n",
       "      <td>Rest_Ecg</td>\n",
       "      <td>0.15</td>\n",
       "      <td>3.27e-02</td>\n",
       "      <td>6.23e-02</td>\n",
       "      <td>0.15</td>\n",
       "      <td>1.69e-01</td>\n",
       "      <td>6.95e-02</td>\n",
       "      <td>1.00</td>\n",
       "      <td>-7.00e-02</td>\n",
       "      <td>7.92e-02</td>\n",
       "      <td>1.13e-01</td>\n",
       "      <td>0.13</td>\n",
       "      <td>0.13</td>\n",
       "      <td>1.68e-02</td>\n",
       "      <td>1.64e-01</td>\n",
       "    </tr>\n",
       "    <tr>\n",
       "      <td>Max_Rt</td>\n",
       "      <td>-0.39</td>\n",
       "      <td>-6.19e-02</td>\n",
       "      <td>-3.41e-01</td>\n",
       "      <td>-0.05</td>\n",
       "      <td>6.04e-03</td>\n",
       "      <td>-6.94e-03</td>\n",
       "      <td>-0.07</td>\n",
       "      <td>1.00e+00</td>\n",
       "      <td>-3.86e-01</td>\n",
       "      <td>-3.48e-01</td>\n",
       "      <td>-0.39</td>\n",
       "      <td>-0.27</td>\n",
       "      <td>-2.77e-01</td>\n",
       "      <td>-4.25e-01</td>\n",
       "    </tr>\n",
       "    <tr>\n",
       "      <td>Ex_Angina</td>\n",
       "      <td>0.10</td>\n",
       "      <td>1.45e-01</td>\n",
       "      <td>3.79e-01</td>\n",
       "      <td>0.06</td>\n",
       "      <td>5.20e-02</td>\n",
       "      <td>-1.88e-03</td>\n",
       "      <td>0.08</td>\n",
       "      <td>-3.86e-01</td>\n",
       "      <td>1.00e+00</td>\n",
       "      <td>2.90e-01</td>\n",
       "      <td>0.25</td>\n",
       "      <td>0.15</td>\n",
       "      <td>3.29e-01</td>\n",
       "      <td>4.23e-01</td>\n",
       "    </tr>\n",
       "    <tr>\n",
       "      <td>St_Depr</td>\n",
       "      <td>0.20</td>\n",
       "      <td>1.07e-01</td>\n",
       "      <td>2.04e-01</td>\n",
       "      <td>0.19</td>\n",
       "      <td>3.65e-02</td>\n",
       "      <td>8.04e-03</td>\n",
       "      <td>0.11</td>\n",
       "      <td>-3.48e-01</td>\n",
       "      <td>2.90e-01</td>\n",
       "      <td>1.00e+00</td>\n",
       "      <td>0.58</td>\n",
       "      <td>0.29</td>\n",
       "      <td>3.45e-01</td>\n",
       "      <td>4.24e-01</td>\n",
       "    </tr>\n",
       "    <tr>\n",
       "      <td>Slope</td>\n",
       "      <td>0.16</td>\n",
       "      <td>3.41e-02</td>\n",
       "      <td>1.52e-01</td>\n",
       "      <td>0.12</td>\n",
       "      <td>-1.22e-02</td>\n",
       "      <td>4.74e-02</td>\n",
       "      <td>0.13</td>\n",
       "      <td>-3.90e-01</td>\n",
       "      <td>2.52e-01</td>\n",
       "      <td>5.79e-01</td>\n",
       "      <td>1.00</td>\n",
       "      <td>0.11</td>\n",
       "      <td>2.81e-01</td>\n",
       "      <td>3.34e-01</td>\n",
       "    </tr>\n",
       "    <tr>\n",
       "      <td>Colored_Vessels</td>\n",
       "      <td>0.36</td>\n",
       "      <td>9.10e-02</td>\n",
       "      <td>2.34e-01</td>\n",
       "      <td>0.10</td>\n",
       "      <td>1.19e-01</td>\n",
       "      <td>1.52e-01</td>\n",
       "      <td>0.13</td>\n",
       "      <td>-2.67e-01</td>\n",
       "      <td>1.46e-01</td>\n",
       "      <td>2.94e-01</td>\n",
       "      <td>0.11</td>\n",
       "      <td>1.00</td>\n",
       "      <td>2.55e-01</td>\n",
       "      <td>4.61e-01</td>\n",
       "    </tr>\n",
       "    <tr>\n",
       "      <td>Thalassemia</td>\n",
       "      <td>0.13</td>\n",
       "      <td>3.84e-01</td>\n",
       "      <td>2.70e-01</td>\n",
       "      <td>0.14</td>\n",
       "      <td>5.22e-03</td>\n",
       "      <td>6.13e-02</td>\n",
       "      <td>0.02</td>\n",
       "      <td>-2.77e-01</td>\n",
       "      <td>3.29e-01</td>\n",
       "      <td>3.45e-01</td>\n",
       "      <td>0.28</td>\n",
       "      <td>0.25</td>\n",
       "      <td>1.00e+00</td>\n",
       "      <td>5.28e-01</td>\n",
       "    </tr>\n",
       "    <tr>\n",
       "      <td>Target</td>\n",
       "      <td>0.23</td>\n",
       "      <td>2.79e-01</td>\n",
       "      <td>4.10e-01</td>\n",
       "      <td>0.15</td>\n",
       "      <td>7.46e-02</td>\n",
       "      <td>2.42e-03</td>\n",
       "      <td>0.16</td>\n",
       "      <td>-4.25e-01</td>\n",
       "      <td>4.23e-01</td>\n",
       "      <td>4.24e-01</td>\n",
       "      <td>0.33</td>\n",
       "      <td>0.46</td>\n",
       "      <td>5.28e-01</td>\n",
       "      <td>1.00e+00</td>\n",
       "    </tr>\n",
       "  </tbody>\n",
       "</table>\n",
       "</div>"
      ],
      "text/plain": [
       "                  Age       Sex  ChestPain  Rest_bp  Cholestrol  Fast_bld_sugar  Rest_Ecg  \\\n",
       "Age              1.00 -9.22e-02   1.11e-01     0.29    2.01e-01        1.32e-01      0.15   \n",
       "Sex             -0.09  1.00e+00   9.91e-03    -0.07   -2.00e-01        3.84e-02      0.03   \n",
       "ChestPain        0.11  9.91e-03   1.00e+00    -0.04    6.74e-02       -5.82e-02      0.06   \n",
       "Rest_bp          0.29 -6.71e-02  -3.79e-02     1.00    1.34e-01        1.81e-01      0.15   \n",
       "Cholestrol       0.20 -2.00e-01   6.74e-02     0.13    1.00e+00        1.46e-02      0.17   \n",
       "Fast_bld_sugar   0.13  3.84e-02  -5.82e-02     0.18    1.46e-02        1.00e+00      0.07   \n",
       "Rest_Ecg         0.15  3.27e-02   6.23e-02     0.15    1.69e-01        6.95e-02      1.00   \n",
       "Max_Rt          -0.39 -6.19e-02  -3.41e-01    -0.05    6.04e-03       -6.94e-03     -0.07   \n",
       "Ex_Angina        0.10  1.45e-01   3.79e-01     0.06    5.20e-02       -1.88e-03      0.08   \n",
       "St_Depr          0.20  1.07e-01   2.04e-01     0.19    3.65e-02        8.04e-03      0.11   \n",
       "Slope            0.16  3.41e-02   1.52e-01     0.12   -1.22e-02        4.74e-02      0.13   \n",
       "Colored_Vessels  0.36  9.10e-02   2.34e-01     0.10    1.19e-01        1.52e-01      0.13   \n",
       "Thalassemia      0.13  3.84e-01   2.70e-01     0.14    5.22e-03        6.13e-02      0.02   \n",
       "Target           0.23  2.79e-01   4.10e-01     0.15    7.46e-02        2.42e-03      0.16   \n",
       "\n",
       "                   Max_Rt  Ex_Angina   St_Depr  Slope  Colored_Vessels  Thalassemia    Target  \n",
       "Age             -3.94e-01   9.67e-02  1.97e-01   0.16             0.36     1.27e-01  2.27e-01  \n",
       "Sex             -6.19e-02   1.45e-01  1.07e-01   0.03             0.09     3.84e-01  2.79e-01  \n",
       "ChestPain       -3.41e-01   3.79e-01  2.04e-01   0.15             0.23     2.70e-01  4.10e-01  \n",
       "Rest_bp         -4.76e-02   6.50e-02  1.91e-01   0.12             0.10     1.37e-01  1.52e-01  \n",
       "Cholestrol       6.04e-03   5.20e-02  3.65e-02  -0.01             0.12     5.22e-03  7.46e-02  \n",
       "Fast_bld_sugar  -6.94e-03  -1.88e-03  8.04e-03   0.05             0.15     6.13e-02  2.42e-03  \n",
       "Rest_Ecg        -7.00e-02   7.92e-02  1.13e-01   0.13             0.13     1.68e-02  1.64e-01  \n",
       "Max_Rt           1.00e+00  -3.86e-01 -3.48e-01  -0.39            -0.27    -2.77e-01 -4.25e-01  \n",
       "Ex_Angina       -3.86e-01   1.00e+00  2.90e-01   0.25             0.15     3.29e-01  4.23e-01  \n",
       "St_Depr         -3.48e-01   2.90e-01  1.00e+00   0.58             0.29     3.45e-01  4.24e-01  \n",
       "Slope           -3.90e-01   2.52e-01  5.79e-01   1.00             0.11     2.81e-01  3.34e-01  \n",
       "Colored_Vessels -2.67e-01   1.46e-01  2.94e-01   0.11             1.00     2.55e-01  4.61e-01  \n",
       "Thalassemia     -2.77e-01   3.29e-01  3.45e-01   0.28             0.25     1.00e+00  5.28e-01  \n",
       "Target          -4.25e-01   4.23e-01  4.24e-01   0.33             0.46     5.28e-01  1.00e+00  "
      ]
     },
     "execution_count": 195,
     "metadata": {},
     "output_type": "execute_result"
    }
   ],
   "source": [
    "data0.corr()"
   ]
  },
  {
   "cell_type": "code",
   "execution_count": 196,
   "metadata": {},
   "outputs": [
    {
     "data": {
      "text/plain": [
       "<matplotlib.axes._subplots.AxesSubplot at 0x232c11fdf08>"
      ]
     },
     "execution_count": 196,
     "metadata": {},
     "output_type": "execute_result"
    },
    {
     "data": {
      "image/png": "[encoded data removed]",
      "text/plain": [
       "<Figure size 864x720 with 2 Axes>"
      ]
     },
     "metadata": {
      "needs_background": "light"
     },
     "output_type": "display_data"
    }
   ],
   "source": [
    "plt.figure(figsize=(12,10))\n",
    "sns.heatmap(data0.corr(),annot=True,cmap=\"magma\",fmt='.2f')"
   ]
  },
  {
   "cell_type": "markdown",
   "metadata": {},
   "source": [
    "<font size=\"5\"><font color='red'>**DATA  VISUALISATION**</font></font>"
   ]
  },
  {
   "cell_type": "markdown",
   "metadata": {},
   "source": [
    "<font size=\"3\"><font color='BLUE'>**UNIVARIATE ANALYSIS**</font></font>"
   ]
  },
  {
   "cell_type": "markdown",
   "metadata": {},
   "source": [
    "<font size=\"5\"><font color='purple'>**age variable**</font></font>\n",
    "<font size=\"2\"><font color='grey'>The person’s age in years</font></font>"
   ]
  },
  {
   "cell_type": "code",
   "execution_count": 199,
   "metadata": {},
   "outputs": [
    {
     "data": {
      "image/png": "[encoded data removed]",
      "text/plain": [
       "<Figure size 432x288 with 1 Axes>"
      ]
     },
     "metadata": {
      "needs_background": "light"
     },
     "output_type": "display_data"
    }
   ],
   "source": [
    "data0['Age'].hist();"
   ]
  },
  {
   "cell_type": "code",
   "execution_count": 200,
   "metadata": {},
   "outputs": [
    {
     "data": {
      "image/png": "[encoded data removed]",
      "text/plain": [
       "<Figure size 432x288 with 1 Axes>"
      ]
     },
     "metadata": {
      "needs_background": "light"
     },
     "output_type": "display_data"
    }
   ],
   "source": [
    "data0['Age'].plot.kde() # desinty plot of 'age' variable\n",
    "\n",
    "plt.show()"
   ]
  },
  {
   "cell_type": "code",
   "execution_count": 201,
   "metadata": {},
   "outputs": [
    {
     "data": {
      "image/png": "[encoded data removed]",
      "text/plain": [
       "<Figure size 432x288 with 1 Axes>"
      ]
     },
     "metadata": {
      "needs_background": "light"
     },
     "output_type": "display_data"
    }
   ],
   "source": [
    "data0[['Age']].boxplot();"
   ]
  },
  {
   "cell_type": "markdown",
   "metadata": {},
   "source": [
    "* <font size=\"3\"><font color='BLUE'>In independent variable -:age, the distribution is approximately symmetric by looking at it's density and histogram  plot.</font></font>\n",
    "* <font size=\"3\"><font color='BLUE'>There are no outliers present in age variable by looking at it's boxplot.</font></font>"
   ]
  },
  {
   "cell_type": "markdown",
   "metadata": {},
   "source": [
    "<font size=\"5\"><font color='purple'>**sex variable (categorical variable)**</font></font>\n",
    "<font size=\"2\"><font color='grey'>The person’s sex (1 = male, 0 = female)</font></font>"
   ]
  },
  {
   "cell_type": "code",
   "execution_count": 204,
   "metadata": {},
   "outputs": [
    {
     "data": {
      "image/png": "[encoded data removed]",
      "text/plain": [
       "<Figure size 432x288 with 1 Axes>"
      ]
     },
     "metadata": {
      "needs_background": "light"
     },
     "output_type": "display_data"
    }
   ],
   "source": [
    "sns.countplot(x='Sex', data= data0);"
   ]
  },
  {
   "cell_type": "code",
   "execution_count": 205,
   "metadata": {},
   "outputs": [
    {
     "data": {
      "text/plain": [
       "1    403\n",
       "0    192\n",
       "Name: Sex, dtype: int64"
      ]
     },
     "execution_count": 205,
     "metadata": {},
     "output_type": "execute_result"
    }
   ],
   "source": [
    "data0['Sex'].value_counts()"
   ]
  },
  {
   "cell_type": "markdown",
   "metadata": {},
   "source": [
    "<font size=\"5\"><font color='purple'>**ChestPain variable (categorical variable)**</font></font>\n",
    "\n",
    "<font size=\"2\"><font color='grey'>1: typical angina\n",
    "2: atypical angina\n",
    "3: non-anginal pain\n",
    "4: asymptomatic\n",
    "</font></font>"
   ]
  },
  {
   "cell_type": "code",
   "execution_count": 206,
   "metadata": {},
   "outputs": [
    {
     "data": {
      "image/png": "[encoded data removed]",
      "text/plain": [
       "<Figure size 432x288 with 1 Axes>"
      ]
     },
     "metadata": {
      "needs_background": "light"
     },
     "output_type": "display_data"
    }
   ],
   "source": [
    "sns.countplot(x='ChestPain',data=data0);"
   ]
  },
  {
   "cell_type": "code",
   "execution_count": 207,
   "metadata": {},
   "outputs": [
    {
     "data": {
      "text/plain": [
       "4    285\n",
       "3    166\n",
       "2     98\n",
       "1     46\n",
       "Name: ChestPain, dtype: int64"
      ]
     },
     "execution_count": 207,
     "metadata": {},
     "output_type": "execute_result"
    }
   ],
   "source": [
    "data0['ChestPain'].value_counts()"
   ]
  },
  {
   "cell_type": "markdown",
   "metadata": {},
   "source": [
    "<font size=\"5\"><font color='purple'>**Rest_bp**</font></font>\n",
    "\n",
    "<font size=\"2\"><font color='grey'>The person’s resting blood pressure (mm Hg on admission to the hospital)</font></font>"
   ]
  },
  {
   "cell_type": "code",
   "execution_count": 208,
   "metadata": {},
   "outputs": [
    {
     "data": {
      "image/png": "[encoded data removed]",
      "text/plain": [
       "<Figure size 432x288 with 1 Axes>"
      ]
     },
     "metadata": {
      "needs_background": "light"
     },
     "output_type": "display_data"
    }
   ],
   "source": [
    "data0['Rest_bp'].hist();"
   ]
  },
  {
   "cell_type": "code",
   "execution_count": 209,
   "metadata": {},
   "outputs": [
    {
     "data": {
      "image/png": "[encoded data removed]",
      "text/plain": [
       "<Figure size 432x288 with 1 Axes>"
      ]
     },
     "metadata": {
      "needs_background": "light"
     },
     "output_type": "display_data"
    }
   ],
   "source": [
    "data0['Rest_bp'].plot.kde();"
   ]
  },
  {
   "cell_type": "code",
   "execution_count": 210,
   "metadata": {},
   "outputs": [
    {
     "data": {
      "image/png": "[encoded data removed]",
      "text/plain": [
       "<Figure size 432x288 with 1 Axes>"
      ]
     },
     "metadata": {
      "needs_background": "light"
     },
     "output_type": "display_data"
    }
   ],
   "source": [
    "data0[['Rest_bp']].boxplot();"
   ]
  },
  {
   "cell_type": "markdown",
   "metadata": {},
   "source": [
    "* <font size=\"3\"><font color='BLUE'>In independent variable -:Rest_bp, the distribution is moderately positively  skewed by looking at it's density and histogram  plot.</font></font>\n",
    "* <font size=\"3\"><font color='BLUE'>There are  outliers present in **Rest_bp** variable by looking at it's boxplot.</font></font>\n",
    "* <font size=\"3\"><font color='BLUE'>transformation is required.</font></font>"
   ]
  },
  {
   "cell_type": "markdown",
   "metadata": {},
   "source": [
    "<font size=\"5\"><font color='purple'>**Cholesterol**</font></font><font>\n",
    "\n",
    "<font size=\"2\"><font color='grey'>The person’s cholesterol measurement in mg/dl</font></font>"
   ]
  },
  {
   "cell_type": "code",
   "execution_count": 212,
   "metadata": {},
   "outputs": [
    {
     "data": {
      "image/png": "[encoded data removed]",
      "text/plain": [
       "<Figure size 432x288 with 1 Axes>"
      ]
     },
     "metadata": {
      "needs_background": "light"
     },
     "output_type": "display_data"
    }
   ],
   "source": [
    "data0['Cholestrol'].hist();"
   ]
  },
  {
   "cell_type": "code",
   "execution_count": 213,
   "metadata": {},
   "outputs": [
    {
     "data": {
      "image/png": "[encoded data removed]",
      "text/plain": [
       "<Figure size 432x288 with 1 Axes>"
      ]
     },
     "metadata": {
      "needs_background": "light"
     },
     "output_type": "display_data"
    }
   ],
   "source": [
    "data0['Cholestrol'].plot.kde();"
   ]
  },
  {
   "cell_type": "code",
   "execution_count": 214,
   "metadata": {},
   "outputs": [
    {
     "data": {
      "image/png": "[encoded data removed]",
      "text/plain": [
       "<Figure size 432x288 with 1 Axes>"
      ]
     },
     "metadata": {
      "needs_background": "light"
     },
     "output_type": "display_data"
    }
   ],
   "source": [
    "data0[['Cholestrol']].boxplot();"
   ]
  },
  {
   "cell_type": "markdown",
   "metadata": {},
   "source": [
    "* <font size=\"3\"><font color='BLUE'>In independent numeric variable -:cholesterol, the distribution is moderately positively  skewed by looking at it's density and histogram  plot.</font></font>\n",
    "* <font size=\"3\"><font color='BLUE'>There are  outliers present in **cholesterol** variable by looking at it's boxplot.</font></font>\n",
    "* <font size=\"3\"><font color='BLUE'>transformation is required.</font></font>"
   ]
  },
  {
   "cell_type": "markdown",
   "metadata": {},
   "source": [
    "<font size=\"5\"><font color='purple'>**Fast_bld_sugar (categorical variable)**</font></font><font>\n",
    "\n",
    "<font size=\"2\"><font color='grey'>The person’s fasting blood sugar (> 120 mg/dl, 1 = true; 0 = false)</font></font>"
   ]
  },
  {
   "cell_type": "code",
   "execution_count": 216,
   "metadata": {},
   "outputs": [
    {
     "data": {
      "image/png": "[encoded data removed]",
      "text/plain": [
       "<Figure size 432x288 with 1 Axes>"
      ]
     },
     "metadata": {
      "needs_background": "light"
     },
     "output_type": "display_data"
    }
   ],
   "source": [
    "sns.countplot(x='Fast_bld_sugar',data=data0);"
   ]
  },
  {
   "cell_type": "code",
   "execution_count": 217,
   "metadata": {},
   "outputs": [
    {
     "data": {
      "text/plain": [
       "0    509\n",
       "1     86\n",
       "Name: Fast_bld_sugar, dtype: int64"
      ]
     },
     "execution_count": 217,
     "metadata": {},
     "output_type": "execute_result"
    }
   ],
   "source": [
    "data0['Fast_bld_sugar'].value_counts()"
   ]
  },
  {
   "cell_type": "markdown",
   "metadata": {},
   "source": [
    "<font size=\"5\"><font color='purple'>**Rest_Ecg – (categorical variable)**</font></font><font>\n",
    "\n",
    "<font size=\"2\"><font color='grey'>0: normal\n",
    "1: abnormal\n",
    "2: probable or definite left ventricular enlargement</font></font>"
   ]
  },
  {
   "cell_type": "code",
   "execution_count": 218,
   "metadata": {},
   "outputs": [
    {
     "data": {
      "image/png": "[encoded data removed]",
      "text/plain": [
       "<Figure size 432x288 with 1 Axes>"
      ]
     },
     "metadata": {
      "needs_background": "light"
     },
     "output_type": "display_data"
    }
   ],
   "source": [
    "sns.countplot(x='Rest_Ecg' , data=data0);"
   ]
  },
  {
   "cell_type": "code",
   "execution_count": 219,
   "metadata": {},
   "outputs": [
    {
     "data": {
      "text/plain": [
       "0    295\n",
       "2    292\n",
       "1      8\n",
       "Name: Rest_Ecg, dtype: int64"
      ]
     },
     "execution_count": 219,
     "metadata": {},
     "output_type": "execute_result"
    }
   ],
   "source": [
    "data0['Rest_Ecg'].value_counts()"
   ]
  },
  {
   "cell_type": "markdown",
   "metadata": {},
   "source": [
    "<font size=\"5\"><font color='purple'>**Max_Rt**</font></font><font>\n",
    "\n",
    "<font size=\"2\"><font color='grey'>maximum heart rate achieved</font></font>"
   ]
  },
  {
   "cell_type": "code",
   "execution_count": 221,
   "metadata": {},
   "outputs": [
    {
     "data": {
      "image/png": "[encoded data removed]",
      "text/plain": [
       "<Figure size 432x288 with 1 Axes>"
      ]
     },
     "metadata": {
      "needs_background": "light"
     },
     "output_type": "display_data"
    }
   ],
   "source": [
    "data0.Max_Rt.hist();"
   ]
  },
  {
   "cell_type": "code",
   "execution_count": 222,
   "metadata": {},
   "outputs": [
    {
     "data": {
      "image/png": "[encoded data removed]",
      "text/plain": [
       "<Figure size 432x288 with 1 Axes>"
      ]
     },
     "metadata": {
      "needs_background": "light"
     },
     "output_type": "display_data"
    }
   ],
   "source": [
    "data0['Max_Rt'].plot.kde();"
   ]
  },
  {
   "cell_type": "code",
   "execution_count": 223,
   "metadata": {},
   "outputs": [
    {
     "data": {
      "image/png": "[encoded data removed]",
      "text/plain": [
       "<Figure size 432x288 with 1 Axes>"
      ]
     },
     "metadata": {
      "needs_background": "light"
     },
     "output_type": "display_data"
    }
   ],
   "source": [
    "data0[['Max_Rt']].boxplot();"
   ]
  },
  {
   "cell_type": "markdown",
   "metadata": {},
   "source": [
    " <font size=\"3\"><font color='BLUE'>In independent numeric variable -:**Max_Rt**, the distribution is  negatively  skewed by looking at it's density and histogram  plot.</font></font>\n",
    "* <font size=\"3\"><font color='BLUE'>There are  outliers present in **Max_Rt** variable by looking at it's boxplot.</font></font>\n",
    "* <font size=\"3\"><font color='BLUE'>transformation is required.</font></font>"
   ]
  },
  {
   "cell_type": "markdown",
   "metadata": {},
   "source": [
    "<font size=\"5\"><font color='purple'>**Ex_Angina – (categorical variable)**</font></font><font>\n",
    "\n",
    "<font size=\"2\"><font color='grey'>Exercise induced angina\n",
    "1 = yes; 0 = no</font></font>"
   ]
  },
  {
   "cell_type": "code",
   "execution_count": 224,
   "metadata": {},
   "outputs": [
    {
     "data": {
      "image/png": "[encoded data removed]",
      "text/plain": [
       "<Figure size 432x288 with 1 Axes>"
      ]
     },
     "metadata": {
      "needs_background": "light"
     },
     "output_type": "display_data"
    }
   ],
   "source": [
    "sns.countplot(x='Ex_Angina' , data=data0);"
   ]
  },
  {
   "cell_type": "code",
   "execution_count": 225,
   "metadata": {},
   "outputs": [
    {
     "data": {
      "text/plain": [
       "0    400\n",
       "1    195\n",
       "Name: Ex_Angina, dtype: int64"
      ]
     },
     "execution_count": 225,
     "metadata": {},
     "output_type": "execute_result"
    }
   ],
   "source": [
    "data0['Ex_Angina'].value_counts()"
   ]
  },
  {
   "cell_type": "markdown",
   "metadata": {},
   "source": [
    "<font size=\"5\"><font color='purple'>**St_Depr**</font></font><font>\n",
    "\n",
    "<font size=\"2\"><font color='grey'>ST depression induced by exercise relative to rest</font></font>"
   ]
  },
  {
   "cell_type": "code",
   "execution_count": 226,
   "metadata": {},
   "outputs": [
    {
     "data": {
      "image/png": "[encoded data removed]",
      "text/plain": [
       "<Figure size 432x288 with 1 Axes>"
      ]
     },
     "metadata": {
      "needs_background": "light"
     },
     "output_type": "display_data"
    }
   ],
   "source": [
    "data0.St_Depr.hist();"
   ]
  },
  {
   "cell_type": "code",
   "execution_count": 227,
   "metadata": {},
   "outputs": [
    {
     "data": {
      "image/png": "[encoded data removed]",
      "text/plain": [
       "<Figure size 432x288 with 1 Axes>"
      ]
     },
     "metadata": {
      "needs_background": "light"
     },
     "output_type": "display_data"
    }
   ],
   "source": [
    "data0['St_Depr'].plot.kde();"
   ]
  },
  {
   "cell_type": "code",
   "execution_count": 228,
   "metadata": {},
   "outputs": [
    {
     "data": {
      "image/png": "[encoded data removed]",
      "text/plain": [
       "<Figure size 432x288 with 1 Axes>"
      ]
     },
     "metadata": {
      "needs_background": "light"
     },
     "output_type": "display_data"
    }
   ],
   "source": [
    "sns.boxplot(data=data0[['St_Depr']]);"
   ]
  },
  {
   "cell_type": "markdown",
   "metadata": {},
   "source": [
    " <font size=\"3\"><font color='BLUE'>In independent numeric variable -:**St_Depr**, the distribution is  highly positively skewed by looking at it's density and histogram  plot.</font></font>\n",
    "* <font size=\"3\"><font color='BLUE'>There are  outliers present in **St_Depr** variable by looking at it's boxplot.</font></font>\n",
    "* <font size=\"3\"><font color='BLUE'>transformation is required.</font></font>"
   ]
  },
  {
   "cell_type": "markdown",
   "metadata": {},
   "source": [
    "<font size=\"5\"><font color='purple'>**Slope** - (categorical variable)</font></font><font>\n",
    "\n",
    "<font size=\"2\"><font color='grey'> the slope of the peak exercise ST segment (1: upsloping 2: flat 3: down sloping)</font></font>"
   ]
  },
  {
   "cell_type": "code",
   "execution_count": 230,
   "metadata": {},
   "outputs": [
    {
     "data": {
      "image/png": "[encoded data removed]",
      "text/plain": [
       "<Figure size 432x288 with 1 Axes>"
      ]
     },
     "metadata": {
      "needs_background": "light"
     },
     "output_type": "display_data"
    }
   ],
   "source": [
    "sns.countplot(x='Slope' , data=data0);"
   ]
  },
  {
   "cell_type": "code",
   "execution_count": 231,
   "metadata": {},
   "outputs": [
    {
     "data": {
      "text/plain": [
       "1    278\n",
       "2    275\n",
       "3     42\n",
       "Name: Slope, dtype: int64"
      ]
     },
     "execution_count": 231,
     "metadata": {},
     "output_type": "execute_result"
    }
   ],
   "source": [
    "data0['Slope'].value_counts()"
   ]
  },
  {
   "cell_type": "markdown",
   "metadata": {},
   "source": [
    "<font size=\"5\"><font color='purple'>**Colored_Vessels** - (categorical variable)</font></font><font>\n",
    "\n",
    "<font size=\"2\"><font color='grey'> number of major vessels (0-3) colored by flourosopy</font></font>"
   ]
  },
  {
   "cell_type": "code",
   "execution_count": 232,
   "metadata": {},
   "outputs": [
    {
     "data": {
      "image/png": "[encoded data removed]",
      "text/plain": [
       "<Figure size 432x288 with 1 Axes>"
      ]
     },
     "metadata": {
      "needs_background": "light"
     },
     "output_type": "display_data"
    }
   ],
   "source": [
    "sns.countplot(x='Colored_Vessels' , data=data0);"
   ]
  },
  {
   "cell_type": "code",
   "execution_count": 233,
   "metadata": {},
   "outputs": [
    {
     "data": {
      "text/plain": [
       "0    349\n",
       "1    130\n",
       "2     76\n",
       "3     40\n",
       "Name: Colored_Vessels, dtype: int64"
      ]
     },
     "execution_count": 233,
     "metadata": {},
     "output_type": "execute_result"
    }
   ],
   "source": [
    "data0['Colored_Vessels'].value_counts()"
   ]
  },
  {
   "cell_type": "markdown",
   "metadata": {},
   "source": [
    "<font size=\"5\"><font color='purple'>**Thalassemia** - (categorical variable)</font></font><font>\n",
    "\n",
    "<font size=\"2\"><font color='grey'> </font></font>"
   ]
  },
  {
   "cell_type": "code",
   "execution_count": 234,
   "metadata": {},
   "outputs": [
    {
     "data": {
      "image/png": "[encoded data removed]",
      "text/plain": [
       "<Figure size 432x288 with 1 Axes>"
      ]
     },
     "metadata": {
      "needs_background": "light"
     },
     "output_type": "display_data"
    }
   ],
   "source": [
    "sns.countplot(x='Thalassemia' , data= data0);"
   ]
  },
  {
   "cell_type": "code",
   "execution_count": 235,
   "metadata": {},
   "outputs": [
    {
     "data": {
      "text/plain": [
       "3    328\n",
       "7    231\n",
       "6     36\n",
       "Name: Thalassemia, dtype: int64"
      ]
     },
     "execution_count": 235,
     "metadata": {},
     "output_type": "execute_result"
    }
   ],
   "source": [
    "data0['Thalassemia'].value_counts()"
   ]
  },
  {
   "cell_type": "code",
   "execution_count": 246,
   "metadata": {},
   "outputs": [
    {
     "data": {
      "application/vnd.jupyter.widget-view+json": {
       "model_id": "597a38f872a74a8898542307cfa85a97",
       "version_major": 2,
       "version_minor": 0
      },
      "text/plain": [
       "Tab(children=(HTML(value='<div id=\"overview-content\" class=\"row variable spacing\">\\n    <div class=\"row\">\\n   …"
      ]
     },
     "metadata": {},
     "output_type": "display_data"
    },
    {
     "data": {
      "text/html": [
       "Report generated with <a href=\"https://github.com/pandas-profiling/pandas-profiling\">pandas-profiling</a>."
      ],
      "text/plain": [
       "<IPython.core.display.HTML object>"
      ]
     },
     "metadata": {},
     "output_type": "display_data"
    },
    {
     "data": {
      "text/plain": []
     },
     "execution_count": 246,
     "metadata": {},
     "output_type": "execute_result"
    }
   ],
   "source": [
    "import pandas_profiling as pp\n",
    "pp.ProfileReport(data0)"
   ]
  },
  {
   "cell_type": "markdown",
   "metadata": {},
   "source": [
    "Dropping rows was a more sensible idea."
   ]
  },
  {
   "cell_type": "markdown",
   "metadata": {},
   "source": [
    "After dropping the rows, the data types were correctly renamed."
   ]
  },
  {
   "cell_type": "code",
   "execution_count": 137,
   "metadata": {},
   "outputs": [],
   "source": [
    "data0['Thalassemia'].replace('?', np.nan, inplace= True)"
   ]
  },
  {
   "cell_type": "code",
   "execution_count": 138,
   "metadata": {},
   "outputs": [
    {
     "name": "stdout",
     "output_type": "stream",
     "text": [
      "(595, 14)\n"
     ]
    }
   ],
   "source": [
    "data0['Colored_Vessels'].replace('?', np.nan, inplace= True)\n",
    "data0.dropna(inplace=True)\n",
    "print(data0.shape)"
   ]
  },
  {
   "cell_type": "markdown",
   "metadata": {},
   "source": [
    "**Changing all variables from object to numerical data types.**"
   ]
  },
  {
   "cell_type": "code",
   "execution_count": 139,
   "metadata": {},
   "outputs": [],
   "source": [
    "data0.Rest_bp = data0.Rest_bp.astype('int')\n",
    "data0.Cholestrol = data0.Cholestrol.astype('int')\n",
    "data0.Fast_bld_sugar = data0.Fast_bld_sugar.astype('int')\n",
    "data0.Rest_Ecg = data0.Rest_Ecg.astype('int')\n",
    "data0.Max_Rt = data0.Max_Rt.astype('int')\n",
    "data0.Ex_Angina = data0.Ex_Angina.astype('int')\n",
    "data0.St_Depr = data0.St_Depr.astype('float')\n",
    "data0.Slope = data0.Slope.astype('int')\n",
    "data0.Colored_Vessels = data0.Colored_Vessels.astype('int')\n",
    "data0.Thalassemia = data0.Thalassemia.astype('int')"
   ]
  },
  {
   "cell_type": "markdown",
   "metadata": {},
   "source": [
    "**A look at whether all the features were converted to numeric data types.**"
   ]
  },
  {
   "cell_type": "code",
   "execution_count": 140,
   "metadata": {},
   "outputs": [
    {
     "data": {
      "text/plain": [
       "Age                  int64\n",
       "Sex                  int64\n",
       "ChestPain            int64\n",
       "Rest_bp              int32\n",
       "Cholestrol           int32\n",
       "Fast_bld_sugar       int32\n",
       "Rest_Ecg             int32\n",
       "Max_Rt               int32\n",
       "Ex_Angina            int32\n",
       "St_Depr            float64\n",
       "Slope                int32\n",
       "Colored_Vessels      int32\n",
       "Thalassemia          int32\n",
       "Target               int64\n",
       "dtype: object"
      ]
     },
     "execution_count": 140,
     "metadata": {},
     "output_type": "execute_result"
    }
   ],
   "source": [
    "data0.dtypes"
   ]
  },
  {
   "cell_type": "code",
   "execution_count": 141,
   "metadata": {},
   "outputs": [
    {
     "name": "stdout",
     "output_type": "stream",
     "text": [
      "                     0      1      2      3      4      5      6      7      8      9\n",
      "Age               63.0   67.0   67.0   37.0   41.0   56.0   62.0   57.0   63.0   53.0\n",
      "Sex                1.0    1.0    1.0    1.0    0.0    1.0    0.0    0.0    1.0    1.0\n",
      "ChestPain          1.0    4.0    4.0    3.0    2.0    2.0    4.0    4.0    4.0    4.0\n",
      "Rest_bp          145.0  160.0  120.0  130.0  130.0  120.0  140.0  120.0  130.0  140.0\n",
      "Cholestrol       233.0  286.0  229.0  250.0  204.0  236.0  268.0  354.0  254.0  203.0\n",
      "Fast_bld_sugar     1.0    0.0    0.0    0.0    0.0    0.0    0.0    0.0    0.0    1.0\n",
      "Rest_Ecg           2.0    2.0    2.0    0.0    2.0    0.0    2.0    0.0    2.0    2.0\n",
      "Max_Rt           150.0  108.0  129.0  187.0  172.0  178.0  160.0  163.0  147.0  155.0\n",
      "Ex_Angina          0.0    1.0    1.0    0.0    0.0    0.0    0.0    1.0    0.0    1.0\n",
      "St_Depr            2.3    1.5    2.6    3.5    1.4    0.8    3.6    0.6    1.4    3.1\n",
      "Slope              3.0    2.0    2.0    3.0    1.0    1.0    3.0    1.0    2.0    3.0\n",
      "Colored_Vessels    0.0    3.0    2.0    0.0    0.0    0.0    2.0    0.0    1.0    0.0\n",
      "Thalassemia        6.0    3.0    7.0    3.0    3.0    3.0    3.0    3.0    7.0    7.0\n",
      "Target             0.0    2.0    1.0    0.0    0.0    0.0    3.0    0.0    2.0    1.0\n"
     ]
    }
   ],
   "source": [
    "#Peek at the data itself\n",
    "print(data0.head(10).T)"
   ]
  },
  {
   "cell_type": "code",
   "execution_count": 142,
   "metadata": {},
   "outputs": [
    {
     "name": "stdout",
     "output_type": "stream",
     "text": [
      "          Age     Sex  ChestPain  Rest_bp  Cholestrol  Fast_bld_sugar  Rest_Ecg  Max_Rt  \\\n",
      "count  595.00  595.00     595.00   595.00      595.00          595.00    595.00  595.00   \n",
      "mean    54.54    0.68       3.16   131.67      247.10            0.14      0.99  149.55   \n",
      "std      9.03    0.47       0.96    17.74       52.26            0.35      0.99   22.94   \n",
      "min     29.00    0.00       1.00    94.00      100.00            0.00      0.00   71.00   \n",
      "25%     48.00    0.00       3.00   120.00      211.00            0.00      0.00  133.00   \n",
      "50%     56.00    1.00       3.00   130.00      243.00            0.00      1.00  153.00   \n",
      "75%     61.00    1.00       4.00   140.00      276.00            0.00      2.00  166.00   \n",
      "max     77.00    1.00       4.00   200.00      564.00            1.00      2.00  202.00   \n",
      "\n",
      "       Ex_Angina  St_Depr   Slope  Colored_Vessels  Thalassemia  Target  \n",
      "count     595.00   595.00  595.00           595.00       595.00  595.00  \n",
      "mean        0.33     1.06    1.60             0.68         4.73    0.95  \n",
      "std         0.47     1.16    0.62             0.94         1.94    1.23  \n",
      "min         0.00     0.00    1.00             0.00         3.00    0.00  \n",
      "25%         0.00     0.00    1.00             0.00         3.00    0.00  \n",
      "50%         0.00     0.80    2.00             0.00         3.00    0.00  \n",
      "75%         1.00     1.60    2.00             1.00         7.00    2.00  \n",
      "max         1.00     6.20    3.00             3.00         7.00    4.00  \n"
     ]
    }
   ],
   "source": [
    "#Statistical summary of all attributes\n",
    "from pandas import set_option\n",
    "set_option('display.width', 100) \n",
    "set_option('precision', 2)\n",
    "print(data0.describe())"
   ]
  },
  {
   "cell_type": "code",
   "execution_count": 143,
   "metadata": {},
   "outputs": [],
   "source": [
    "#Due to less # of samples, we shall classify into two groups- heart disease present(1)/ absent(0)\n",
    "#Hence merge 2, 3, 4 as 1\n",
    "data0.Target.replace(to_replace = 2, value =1,inplace=True) \n",
    "data0.Target.replace(to_replace = 3, value =1,inplace=True)\n",
    "data0.Target.replace(to_replace = 4, value =1,inplace=True)"
   ]
  },
  {
   "cell_type": "code",
   "execution_count": 144,
   "metadata": {},
   "outputs": [
    {
     "name": "stdout",
     "output_type": "stream",
     "text": [
      "Target\n",
      "0    320\n",
      "1    275\n",
      "dtype: int64\n"
     ]
    }
   ],
   "source": [
    "print(data0.groupby('Target').size())"
   ]
  },
  {
   "cell_type": "markdown",
   "metadata": {},
   "source": [
    "This shows that the target variable is fairly balanced in proportion."
   ]
  },
  {
   "cell_type": "code",
   "execution_count": 145,
   "metadata": {},
   "outputs": [],
   "source": [
    "array0=data0.values  #Create an array of numeric data\n",
    "X=array0[:,0:13]      #Input features \n",
    "Y=array0[:,13]        #Target variable\n",
    "scale = StandardScaler().fit(X)\n",
    "X_scaled = scale.transform(X)  #scaling the data using Standard Scalar"
   ]
  },
  {
   "cell_type": "code",
   "execution_count": 253,
   "metadata": {},
   "outputs": [],
   "source": [
    "seed=690\n",
    "num_trees=10\n",
    "max_features=5\n",
    "models=[]\n",
    "models.append(('Bag',BaggingClassifier(n_estimators=num_trees)))\n",
    "models.append(('RF',RandomForestClassifier(n_estimators=num_trees,criterion= 'entropy',max_features=max_features)))\n",
    "models.append(('LR',LogisticRegression(max_iter=2000)))"
   ]
  },
  {
   "cell_type": "code",
   "execution_count": 254,
   "metadata": {},
   "outputs": [
    {
     "name": "stdout",
     "output_type": "stream",
     "text": [
      "Bag:97.310734(0.020218)\n",
      "RF:98.155367(0.013900)\n",
      "LR:83.358757(0.051330)\n"
     ]
    }
   ],
   "source": [
    "results=[]\n",
    "names=[]\n",
    "scoring='accuracy'\n",
    "for name, model in models:\n",
    "    kfold=KFold(n_splits=10,random_state=seed)\n",
    "    cv_results=cross_val_score(model,X_scaled,Y,cv=kfold,scoring=scoring)\n",
    "    results.append(cv_results)\n",
    "    names.append(name)\n",
    "    msg=\"%s:%f(%f)\" %(name,cv_results.mean()*100, cv_results.std())\n",
    "    print(msg)"
   ]
  },
  {
   "cell_type": "code",
   "execution_count": 255,
   "metadata": {},
   "outputs": [
    {
     "data": {
      "image/png": "[encoded data removed]",
      "text/plain": [
       "<Figure size 576x396 with 1 Axes>"
      ]
     },
     "metadata": {},
     "output_type": "display_data"
    }
   ],
   "source": [
    "import matplotlib.pyplot as plt\n",
    "fig = plt.figure()\n",
    "fig.suptitle('Algorithm Comparison') \n",
    "ax = fig.add_subplot(111)\n",
    "plt.boxplot(results) \n",
    "ax.set_xticklabels(names) \n",
    "plt.show()"
   ]
  },
  {
   "cell_type": "code",
   "execution_count": 256,
   "metadata": {},
   "outputs": [],
   "source": [
    "from sklearn.model_selection import cross_val_score\n",
    "from sklearn.model_selection import train_test_split \n",
    "from sklearn.ensemble import RandomForestClassifier\n",
    "test_size=0.20       #80/20 breakup\n",
    "seed=152             #seed \n",
    "X_train,X_test,Y_train,Y_test=train_test_split(X,Y,test_size=test_size,random_state=seed,stratify=Y)"
   ]
  },
  {
   "cell_type": "code",
   "execution_count": 257,
   "metadata": {},
   "outputs": [],
   "source": [
    "clf=RandomForestClassifier(n_estimators=100)\n",
    "\n",
    "#Train the model using the training sets y_pred=clf.predict(X_test)\n",
    "clf.fit(X_train,Y_train)\n",
    "\n",
    "y_pred=clf.predict(X_test)"
   ]
  },
  {
   "cell_type": "code",
   "execution_count": 258,
   "metadata": {},
   "outputs": [
    {
     "name": "stdout",
     "output_type": "stream",
     "text": [
      "Accuracy: 96.63865546218487\n"
     ]
    }
   ],
   "source": [
    "#Import scikit-learn metrics module for accuracy calculation\n",
    "from sklearn import metrics\n",
    "# Model Accuracy, how often is the classifier correct?\n",
    "print(\"Accuracy:\",metrics.accuracy_score(Y_test, y_pred)*100)"
   ]
  },
  {
   "cell_type": "code",
   "execution_count": 260,
   "metadata": {},
   "outputs": [
    {
     "name": "stdout",
     "output_type": "stream",
     "text": [
      "              precision    recall  f1-score   support\n",
      "\n",
      "         0.0       0.97      0.97      0.97        64\n",
      "         1.0       0.96      0.96      0.96        55\n",
      "\n",
      "    accuracy                           0.97       119\n",
      "   macro avg       0.97      0.97      0.97       119\n",
      "weighted avg       0.97      0.97      0.97       119\n",
      "\n"
     ]
    }
   ],
   "source": [
    "from sklearn.metrics import classification_report\n",
    "print(classification_report(Y_test,y_pred))"
   ]
  },
  {
   "cell_type": "markdown",
   "metadata": {},
   "source": [
    "**Here for disease prediction we are supposed to give more importance to the false negatives, i.e., the type-II errors because if the disease goes undetected it can be very lethal for any patient. Therefore to decrease the type-II errors, we will consider recall as our desired metric.**\n"
   ]
  }
 ],
 "metadata": {
  "kernelspec": {
   "display_name": "Python 3",
   "language": "python",
   "name": "python3"
  },
  "language_info": {
   "codemirror_mode": {
    "name": "ipython",
    "version": 3
   },
   "file_extension": ".py",
   "mimetype": "text/x-python",
   "name": "python",
   "nbconvert_exporter": "python",
   "pygments_lexer": "ipython3",
   "version": "3.7.4"
  }
 },
 "nbformat": 4,
 "nbformat_minor": 2
}
