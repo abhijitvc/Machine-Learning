{
 "cells": [
  {
   "cell_type": "markdown",
   "metadata": {},
   "source": [
    "Read data from this link: https://parvathy47.github.io/Parvathy47.github.io/Rdatasets/csv/gap/PD.csv and perform data cleaning on the dataset.\n",
    "\n",
    "### A study of Parkinson's disease and APOE, LRRK2, SNCA makers \n",
    "##### Description \n",
    "* A study of Parkinson's disease and controls with APOE, LRRK2 markers rs10506151, rs10784486, rs1365763, rs1388598, rs1491938, rs1491941 and SNCA markers m770, int4 and SNCA. \n",
    "\n",
    "* The column abc indicates if a subject is familial Parkinson's (+), sporadic (-), or controls (Control). \n",
    "\n",
    "* Races involved are American Indians (AI), African American (B), and the rest are Caucasians. \n",
    "\n",
    "* Diagnosis also included possible (POS), probable (PRO) and definite PDs. \n",
    "\n",
    "* AON is the age at onset.\n"
   ]
  },
  {
   "cell_type": "code",
   "execution_count": 35,
   "metadata": {},
   "outputs": [
    {
     "data": {
      "text/html": [
       "<div>\n",
       "<style scoped>\n",
       "    .dataframe tbody tr th:only-of-type {\n",
       "        vertical-align: middle;\n",
       "    }\n",
       "\n",
       "    .dataframe tbody tr th {\n",
       "        vertical-align: top;\n",
       "    }\n",
       "\n",
       "    .dataframe thead th {\n",
       "        text-align: right;\n",
       "    }\n",
       "</style>\n",
       "<table border=\"1\" class=\"dataframe\">\n",
       "  <thead>\n",
       "    <tr style=\"text-align: right;\">\n",
       "      <th></th>\n",
       "      <th>Unnamed: 0</th>\n",
       "      <th>lab</th>\n",
       "      <th>apoe</th>\n",
       "      <th>rs10506151</th>\n",
       "      <th>rs10784486</th>\n",
       "      <th>rs1365763</th>\n",
       "      <th>rs1388598</th>\n",
       "      <th>rs1491938</th>\n",
       "      <th>rs1491941</th>\n",
       "      <th>m770</th>\n",
       "      <th>...</th>\n",
       "      <th>diag</th>\n",
       "      <th>sex</th>\n",
       "      <th>race</th>\n",
       "      <th>aon</th>\n",
       "      <th>comments</th>\n",
       "      <th>pd</th>\n",
       "      <th>apoe234</th>\n",
       "      <th>apoe2</th>\n",
       "      <th>apoe3</th>\n",
       "      <th>apoe4</th>\n",
       "    </tr>\n",
       "  </thead>\n",
       "  <tbody>\n",
       "    <tr>\n",
       "      <td>663</td>\n",
       "      <td>664</td>\n",
       "      <td>336-000</td>\n",
       "      <td>3/3</td>\n",
       "      <td>2/2</td>\n",
       "      <td>2/2</td>\n",
       "      <td>1/2</td>\n",
       "      <td>2/2</td>\n",
       "      <td>1/2</td>\n",
       "      <td>2/2</td>\n",
       "      <td>2/2</td>\n",
       "      <td>...</td>\n",
       "      <td>NaN</td>\n",
       "      <td>M</td>\n",
       "      <td>NaN</td>\n",
       "      <td>64.0</td>\n",
       "      <td>NaN</td>\n",
       "      <td>1</td>\n",
       "      <td>0.0</td>\n",
       "      <td>0.0</td>\n",
       "      <td>1.0</td>\n",
       "      <td>0.0</td>\n",
       "    </tr>\n",
       "  </tbody>\n",
       "</table>\n",
       "<p>1 rows × 23 columns</p>\n",
       "</div>"
      ],
      "text/plain": [
       "     Unnamed: 0      lab apoe rs10506151 rs10784486 rs1365763 rs1388598  \\\n",
       "663         664  336-000  3/3        2/2        2/2       1/2       2/2   \n",
       "\n",
       "    rs1491938 rs1491941 m770  ... diag sex race   aon comments pd  apoe234  \\\n",
       "663       1/2       2/2  2/2  ...  NaN   M  NaN  64.0      NaN  1      0.0   \n",
       "\n",
       "    apoe2  apoe3  apoe4  \n",
       "663   0.0    1.0    0.0  \n",
       "\n",
       "[1 rows x 23 columns]"
      ]
     },
     "execution_count": 35,
     "metadata": {},
     "output_type": "execute_result"
    }
   ],
   "source": [
    "df.sample()"
   ]
  },
  {
   "cell_type": "code",
   "execution_count": 34,
   "metadata": {},
   "outputs": [
    {
     "data": {
      "text/html": [
       "<div>\n",
       "<style scoped>\n",
       "    .dataframe tbody tr th:only-of-type {\n",
       "        vertical-align: middle;\n",
       "    }\n",
       "\n",
       "    .dataframe tbody tr th {\n",
       "        vertical-align: top;\n",
       "    }\n",
       "\n",
       "    .dataframe thead th {\n",
       "        text-align: right;\n",
       "    }\n",
       "</style>\n",
       "<table border=\"1\" class=\"dataframe\">\n",
       "  <thead>\n",
       "    <tr style=\"text-align: right;\">\n",
       "      <th></th>\n",
       "      <th>Unnamed: 0</th>\n",
       "      <th>lab</th>\n",
       "      <th>apoe</th>\n",
       "      <th>rs10506151</th>\n",
       "      <th>rs10784486</th>\n",
       "      <th>rs1365763</th>\n",
       "      <th>rs1388598</th>\n",
       "      <th>rs1491938</th>\n",
       "      <th>rs1491941</th>\n",
       "      <th>m770</th>\n",
       "      <th>...</th>\n",
       "      <th>diag</th>\n",
       "      <th>sex</th>\n",
       "      <th>race</th>\n",
       "      <th>aon</th>\n",
       "      <th>comments</th>\n",
       "      <th>pd</th>\n",
       "      <th>apoe234</th>\n",
       "      <th>apoe2</th>\n",
       "      <th>apoe3</th>\n",
       "      <th>apoe4</th>\n",
       "    </tr>\n",
       "  </thead>\n",
       "  <tbody>\n",
       "    <tr>\n",
       "      <td>0</td>\n",
       "      <td>1</td>\n",
       "      <td>002-001</td>\n",
       "      <td>NaN</td>\n",
       "      <td>2/2</td>\n",
       "      <td>1/2</td>\n",
       "      <td>2/2</td>\n",
       "      <td>2/2</td>\n",
       "      <td>1/2</td>\n",
       "      <td>1/2</td>\n",
       "      <td>NaN</td>\n",
       "      <td>...</td>\n",
       "      <td>NaN</td>\n",
       "      <td>F</td>\n",
       "      <td>NaN</td>\n",
       "      <td>NaN</td>\n",
       "      <td>NaN</td>\n",
       "      <td>0</td>\n",
       "      <td>NaN</td>\n",
       "      <td>NaN</td>\n",
       "      <td>NaN</td>\n",
       "      <td>NaN</td>\n",
       "    </tr>\n",
       "    <tr>\n",
       "      <td>1</td>\n",
       "      <td>2</td>\n",
       "      <td>008-015</td>\n",
       "      <td>NaN</td>\n",
       "      <td>2/2</td>\n",
       "      <td>2/2</td>\n",
       "      <td>2/2</td>\n",
       "      <td>2/2</td>\n",
       "      <td>1/2</td>\n",
       "      <td>2/2</td>\n",
       "      <td>NaN</td>\n",
       "      <td>...</td>\n",
       "      <td>NaN</td>\n",
       "      <td>F</td>\n",
       "      <td>NaN</td>\n",
       "      <td>NaN</td>\n",
       "      <td>NaN</td>\n",
       "      <td>0</td>\n",
       "      <td>NaN</td>\n",
       "      <td>NaN</td>\n",
       "      <td>NaN</td>\n",
       "      <td>NaN</td>\n",
       "    </tr>\n",
       "    <tr>\n",
       "      <td>2</td>\n",
       "      <td>3</td>\n",
       "      <td>019-000</td>\n",
       "      <td>3/4</td>\n",
       "      <td>NaN</td>\n",
       "      <td>NaN</td>\n",
       "      <td>NaN</td>\n",
       "      <td>NaN</td>\n",
       "      <td>NaN</td>\n",
       "      <td>NaN</td>\n",
       "      <td>NaN</td>\n",
       "      <td>...</td>\n",
       "      <td>NaN</td>\n",
       "      <td>M</td>\n",
       "      <td>NaN</td>\n",
       "      <td>NaN</td>\n",
       "      <td>NaN</td>\n",
       "      <td>1</td>\n",
       "      <td>1.0</td>\n",
       "      <td>0.0</td>\n",
       "      <td>0.0</td>\n",
       "      <td>1.0</td>\n",
       "    </tr>\n",
       "    <tr>\n",
       "      <td>3</td>\n",
       "      <td>4</td>\n",
       "      <td>030-001</td>\n",
       "      <td>3/4</td>\n",
       "      <td>NaN</td>\n",
       "      <td>NaN</td>\n",
       "      <td>NaN</td>\n",
       "      <td>NaN</td>\n",
       "      <td>NaN</td>\n",
       "      <td>NaN</td>\n",
       "      <td>NaN</td>\n",
       "      <td>...</td>\n",
       "      <td>NaN</td>\n",
       "      <td>F</td>\n",
       "      <td>NaN</td>\n",
       "      <td>NaN</td>\n",
       "      <td>NaN</td>\n",
       "      <td>0</td>\n",
       "      <td>1.0</td>\n",
       "      <td>0.0</td>\n",
       "      <td>0.0</td>\n",
       "      <td>1.0</td>\n",
       "    </tr>\n",
       "    <tr>\n",
       "      <td>4</td>\n",
       "      <td>5</td>\n",
       "      <td>038-000</td>\n",
       "      <td>3/3</td>\n",
       "      <td>NaN</td>\n",
       "      <td>NaN</td>\n",
       "      <td>NaN</td>\n",
       "      <td>NaN</td>\n",
       "      <td>NaN</td>\n",
       "      <td>NaN</td>\n",
       "      <td>NaN</td>\n",
       "      <td>...</td>\n",
       "      <td>NaN</td>\n",
       "      <td>M</td>\n",
       "      <td>NaN</td>\n",
       "      <td>NaN</td>\n",
       "      <td>NaN</td>\n",
       "      <td>1</td>\n",
       "      <td>0.0</td>\n",
       "      <td>0.0</td>\n",
       "      <td>1.0</td>\n",
       "      <td>0.0</td>\n",
       "    </tr>\n",
       "  </tbody>\n",
       "</table>\n",
       "<p>5 rows × 23 columns</p>\n",
       "</div>"
      ],
      "text/plain": [
       "   Unnamed: 0      lab apoe rs10506151 rs10784486 rs1365763 rs1388598  \\\n",
       "0           1  002-001  NaN        2/2        1/2       2/2       2/2   \n",
       "1           2  008-015  NaN        2/2        2/2       2/2       2/2   \n",
       "2           3  019-000  3/4        NaN        NaN       NaN       NaN   \n",
       "3           4  030-001  3/4        NaN        NaN       NaN       NaN   \n",
       "4           5  038-000  3/3        NaN        NaN       NaN       NaN   \n",
       "\n",
       "  rs1491938 rs1491941 m770  ... diag sex race aon comments pd  apoe234 apoe2  \\\n",
       "0       1/2       1/2  NaN  ...  NaN   F  NaN NaN      NaN  0      NaN   NaN   \n",
       "1       1/2       2/2  NaN  ...  NaN   F  NaN NaN      NaN  0      NaN   NaN   \n",
       "2       NaN       NaN  NaN  ...  NaN   M  NaN NaN      NaN  1      1.0   0.0   \n",
       "3       NaN       NaN  NaN  ...  NaN   F  NaN NaN      NaN  0      1.0   0.0   \n",
       "4       NaN       NaN  NaN  ...  NaN   M  NaN NaN      NaN  1      0.0   0.0   \n",
       "\n",
       "   apoe3  apoe4  \n",
       "0    NaN    NaN  \n",
       "1    NaN    NaN  \n",
       "2    0.0    1.0  \n",
       "3    0.0    1.0  \n",
       "4    1.0    0.0  \n",
       "\n",
       "[5 rows x 23 columns]"
      ]
     },
     "execution_count": 34,
     "metadata": {},
     "output_type": "execute_result"
    }
   ],
   "source": [
    "df.head()"
   ]
  },
  {
   "cell_type": "markdown",
   "metadata": {},
   "source": [
    "**1. Which column has the maximum number of null values?**"
   ]
  },
  {
   "cell_type": "code",
   "execution_count": 3,
   "metadata": {},
   "outputs": [
    {
     "data": {
      "text/plain": [
       "787"
      ]
     },
     "execution_count": 3,
     "metadata": {},
     "output_type": "execute_result"
    }
   ],
   "source": [
    "import pandas as pd\n",
    "import numpy as np\n",
    "\n",
    "df = pd.read_csv(\"https://parvathy47.github.io/Parvathy47.github.io/Rdatasets/csv/gap/PD.csv \")\n",
    "df.isnull().sum()\n",
    "df.isnull().sum().max()"
   ]
  },
  {
   "cell_type": "markdown",
   "metadata": {},
   "source": [
    "**2. How many male patients were surveyed?**"
   ]
  },
  {
   "cell_type": "code",
   "execution_count": 17,
   "metadata": {},
   "outputs": [
    {
     "data": {
      "text/plain": [
       "M    435\n",
       "F    390\n",
       "Name: sex, dtype: int64"
      ]
     },
     "execution_count": 17,
     "metadata": {},
     "output_type": "execute_result"
    }
   ],
   "source": [
    "df.sex.value_counts()"
   ]
  },
  {
   "cell_type": "markdown",
   "metadata": {},
   "source": [
    "**3.  How many control patients are there in the dataset?**"
   ]
  },
  {
   "cell_type": "code",
   "execution_count": 36,
   "metadata": {},
   "outputs": [
    {
     "data": {
      "text/plain": [
       "PD-        360\n",
       "Control    235\n",
       "PD+        230\n",
       "Name: abc, dtype: int64"
      ]
     },
     "execution_count": 36,
     "metadata": {},
     "output_type": "execute_result"
    }
   ],
   "source": [
    "#Q3\n",
    "df.abc.value_counts()"
   ]
  },
  {
   "cell_type": "markdown",
   "metadata": {},
   "source": [
    "**4.  How many of the patients are Caucasians?**"
   ]
  },
  {
   "cell_type": "code",
   "execution_count": 27,
   "metadata": {},
   "outputs": [
    {
     "data": {
      "text/plain": [
       "787"
      ]
     },
     "execution_count": 27,
     "metadata": {},
     "output_type": "execute_result"
    }
   ],
   "source": [
    "df['race'].isnull().sum()"
   ]
  },
  {
   "cell_type": "markdown",
   "metadata": {},
   "source": [
    "**5. How many of the patients are older than 70 years?**"
   ]
  },
  {
   "cell_type": "code",
   "execution_count": 4,
   "metadata": {},
   "outputs": [
    {
     "data": {
      "text/plain": [
       "120"
      ]
     },
     "execution_count": 4,
     "metadata": {},
     "output_type": "execute_result"
    }
   ],
   "source": [
    "len(df[df.aon>70])"
   ]
  },
  {
   "cell_type": "markdown",
   "metadata": {},
   "source": [
    "**6.How many possible and probable cases were diagnosed?**"
   ]
  },
  {
   "cell_type": "code",
   "execution_count": 39,
   "metadata": {},
   "outputs": [
    {
     "data": {
      "text/plain": [
       "PRO    40\n",
       "POS     3\n",
       "Name: diag, dtype: int64"
      ]
     },
     "execution_count": 39,
     "metadata": {},
     "output_type": "execute_result"
    }
   ],
   "source": [
    "df['diag'].value_counts()"
   ]
  },
  {
   "cell_type": "markdown",
   "metadata": {},
   "source": [
    "**7.  How many of the probabale patients are females?**"
   ]
  },
  {
   "cell_type": "code",
   "execution_count": 43,
   "metadata": {},
   "outputs": [
    {
     "data": {
      "text/plain": [
       "21"
      ]
     },
     "execution_count": 43,
     "metadata": {},
     "output_type": "execute_result"
    }
   ],
   "source": [
    "#Q7\n",
    "df.sex.value_counts()\n",
    "df['diag'][(df['sex']=='F')].count()"
   ]
  },
  {
   "cell_type": "markdown",
   "metadata": {},
   "source": [
    "**8.  How many male African Americans were diagnosed?**"
   ]
  },
  {
   "cell_type": "code",
   "execution_count": 48,
   "metadata": {
    "scrolled": false
   },
   "outputs": [
    {
     "name": "stderr",
     "output_type": "stream",
     "text": [
      "C:\\Users\\Abhijit Chendvankar\\Anaconda3\\lib\\site-packages\\ipykernel_launcher.py:2: UserWarning: Boolean Series key will be reindexed to match DataFrame index.\n",
      "  \n"
     ]
    },
    {
     "data": {
      "text/plain": [
       "13"
      ]
     },
     "execution_count": 48,
     "metadata": {},
     "output_type": "execute_result"
    }
   ],
   "source": [
    "df[df['race']=='B'][(df['sex']=='M')].sex.count()"
   ]
  },
  {
   "cell_type": "markdown",
   "metadata": {},
   "source": [
    "**9. What is the mean age of onset for American Indians?**"
   ]
  },
  {
   "cell_type": "code",
   "execution_count": 49,
   "metadata": {
    "scrolled": true
   },
   "outputs": [
    {
     "data": {
      "text/plain": [
       "Unnamed: 0    456.650000\n",
       "diag                 NaN\n",
       "aon            52.250000\n",
       "comments             NaN\n",
       "pd              1.000000\n",
       "apoe234         0.083333\n",
       "apoe2           0.083333\n",
       "apoe3           0.750000\n",
       "apoe4           0.166667\n",
       "dtype: float64"
      ]
     },
     "execution_count": 49,
     "metadata": {},
     "output_type": "execute_result"
    }
   ],
   "source": [
    "df[df['race']=='AI'].mean()"
   ]
  },
  {
   "cell_type": "markdown",
   "metadata": {},
   "source": [
    "**10. How many of the males were PD 1?**"
   ]
  },
  {
   "cell_type": "code",
   "execution_count": 50,
   "metadata": {},
   "outputs": [
    {
     "data": {
      "text/plain": [
       "340"
      ]
     },
     "execution_count": 50,
     "metadata": {},
     "output_type": "execute_result"
    }
   ],
   "source": [
    "len(df.query(\"sex == 'M' & pd ==1\"))"
   ]
  }
 ],
 "metadata": {
  "kernelspec": {
   "display_name": "Python 3",
   "language": "python",
   "name": "python3"
  },
  "language_info": {
   "codemirror_mode": {
    "name": "ipython",
    "version": 3
   },
   "file_extension": ".py",
   "mimetype": "text/x-python",
   "name": "python",
   "nbconvert_exporter": "python",
   "pygments_lexer": "ipython3",
   "version": "3.7.4"
  }
 },
 "nbformat": 4,
 "nbformat_minor": 2
}
